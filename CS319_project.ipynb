{
 "cells": [
  {
   "cell_type": "code",
   "execution_count": 1,
   "id": "dc0ee372",
   "metadata": {},
   "outputs": [],
   "source": [
    "import csv\n",
    "import copy\n",
    "import pandas\n",
    "from pandas import DataFrame"
   ]
  },
  {
   "cell_type": "markdown",
   "id": "363ac47c",
   "metadata": {},
   "source": [
    "# Loading Crash Data\n",
    "\n",
    "Extract document id, crash date one hour range, municipality name, location type from csv file named \"2022crashdata.csv\" and store in the dictionary for further use"
   ]
  },
  {
   "cell_type": "code",
   "execution_count": 2,
   "id": "8cdbba64",
   "metadata": {},
   "outputs": [],
   "source": [
    "# process csv file function from previous assignment\n",
    "def process_csv(filename):\n",
    "        example_file = open(filename, encoding=\"utf-8\")\n",
    "        example_reader = csv.reader(example_file)\n",
    "        example_data = list(example_reader)\n",
    "        example_file.close()\n",
    "        return example_data"
   ]
  },
  {
   "cell_type": "code",
   "execution_count": 3,
   "id": "6ae90b16",
   "metadata": {},
   "outputs": [],
   "source": [
    "#import csv file\n",
    "new_file = process_csv(\"2022crashdata.csv\")"
   ]
  },
  {
   "cell_type": "code",
   "execution_count": 4,
   "id": "ca3203d9",
   "metadata": {},
   "outputs": [],
   "source": [
    "#get_raw_data function will extract value from data and return a dictionary that stored the useful value\n",
    "def get_raw_data(data):\n",
    "    crash_dic = {}\n",
    "    crash_dic['document_id'] = []\n",
    "    crash_dic['crashdate'] = []\n",
    "    crash_dic['ntfyhour'] = []\n",
    "    crash_dic['muniname'] = []\n",
    "    crash_dic['loctype'] = []\n",
    "    for i in range(len(data)):   \n",
    "        crash_dic['document_id'].append(data[i][0]) #document number\n",
    "        crash_dic['crashdate'].append(data[i][2]) #date of the crash\n",
    "        crash_dic['ntfyhour'].append(int(data[i][3]))  # the one hour range in which the enformcement agency was notified of \n",
    "        #the crash listed in military time.\n",
    "        crash_dic['muniname'].append(data[i][5]) #municipality name\n",
    "        crash_dic['loctype'].append(data[i][7]) # location of crash: i for intersection\n",
    "        \n",
    "    # n for non-intersection, pl for parking lot and pp for private property\n",
    "    return crash_dic\n"
   ]
  },
  {
   "cell_type": "code",
   "execution_count": 5,
   "id": "cd54545f",
   "metadata": {},
   "outputs": [],
   "source": [
    "#store the useful value in crash_dic\n",
    "title = new_file[0]\n",
    "data = new_file[1:]\n",
    "crash_dic = get_raw_data(data)"
   ]
  },
  {
   "cell_type": "code",
   "execution_count": 6,
   "id": "33dd75da",
   "metadata": {},
   "outputs": [],
   "source": [
    "def get_decode_data(data):\n",
    "    decode_data = {}\n",
    "    decode_data['Number'] = []\n",
    "    decode_data['Month'] = []\n",
    "    decode_data['Loctype'] = []\n",
    "    decode_data['LoctypeWord'] = []\n",
    "    decode_data['Hwyclass'] = []\n",
    "    decode_data['HwyclassWord'] = []\n",
    "    decode_data['Injury'] = []\n",
    "    decode_data[\"InjuryWord\"] = []\n",
    "    for i in range(len(data)):\n",
    "        decode_data['Number'].append(int(data[i][0]))\n",
    "        decode_data['Month'].append(data[i][1])\n",
    "        decode_data['Loctype'].append(data[i][2])\n",
    "        decode_data['LoctypeWord'].append(data[i][3])\n",
    "        decode_data['Hwyclass'].append(data[i][4])\n",
    "        decode_data['HwyclassWord'].append(data[i][5])\n",
    "        decode_data['Injury'].append(data[i][6])\n",
    "        decode_data['InjuryWord'].append(data[i][7])\n",
    "    return decode_data\n",
    "        "
   ]
  },
  {
   "cell_type": "code",
   "execution_count": 7,
   "id": "6ddeccef",
   "metadata": {},
   "outputs": [],
   "source": [
    "code_file = process_csv(\"decode.csv\")\n",
    "code_data = code_file[1:]\n",
    "decode_data = get_decode_data(code_data)"
   ]
  },
  {
   "cell_type": "markdown",
   "id": "f163613d",
   "metadata": {},
   "source": [
    "# Municipality Crash data\n",
    "Find crash data for each municipality and sorted the value to find the 10 municipalities that have most crashes data.\n",
    "\n",
    "Plot bar plot for the data"
   ]
  },
  {
   "cell_type": "markdown",
   "id": "7c71046a",
   "metadata": {},
   "source": [
    "**Q1 find the number of crashes happen in each municipality**"
   ]
  },
  {
   "cell_type": "code",
   "execution_count": 8,
   "id": "37f07b9a",
   "metadata": {},
   "outputs": [
    {
     "data": {
      "text/plain": [
       "{'MADISON': 3658,\n",
       " 'BLOOMING GROVE': 43,\n",
       " 'SHOREWOOD HILLS': 74,\n",
       " 'MC FARLAND': 87,\n",
       " 'COTTAGE GROVE': 152,\n",
       " 'BURKE': 233,\n",
       " 'MONONA': 327,\n",
       " 'ALBION': 127,\n",
       " 'FITCHBURG': 493,\n",
       " 'WESTPORT': 165,\n",
       " 'MONTROSE': 67,\n",
       " 'VERONA': 286,\n",
       " 'SPRINGDALE': 71,\n",
       " 'MAZOMANIE': 48,\n",
       " 'SPRINGFIELD': 196,\n",
       " 'ROXBURY': 42,\n",
       " 'SUN PRAIRIE': 572,\n",
       " 'OREGON': 118,\n",
       " 'WINDSOR': 129,\n",
       " 'DUNN': 108,\n",
       " 'BLACK EARTH': 21,\n",
       " 'VERMONT': 17,\n",
       " 'BLUE MOUNDS': 67,\n",
       " 'CROSS PLAINS': 98,\n",
       " 'BERRY': 33,\n",
       " 'PRIMROSE': 23,\n",
       " 'MIDDLETON': 462,\n",
       " 'VIENNA': 132,\n",
       " 'DEERFIELD': 87,\n",
       " 'DANE': 32,\n",
       " 'PERRY': 17,\n",
       " 'YORK': 60,\n",
       " 'WAUNAKEE': 156,\n",
       " 'RUTLAND': 106,\n",
       " 'BROOKLYN': 111,\n",
       " 'BRISTOL': 254,\n",
       " 'MOUNT HOREB': 98,\n",
       " 'MEDINA': 62,\n",
       " 'WEST POINT': 21,\n",
       " 'PLEASANT SPRINGS': 103,\n",
       " 'DE FOREST': 141,\n",
       " 'DUNKIRK': 40,\n",
       " 'CAMBRIDGE': 20,\n",
       " 'CHRISTIANA': 78,\n",
       " 'STOUGHTON': 208,\n",
       " 'ROCKDALE': 1,\n",
       " 'MARSHALL': 43,\n",
       " 'GREEN BAY': 934,\n",
       " 'SCOTT': 201,\n",
       " 'HOWARD': 418,\n",
       " 'HUMBOLDT': 26,\n",
       " 'ASHWAUBENON': 542,\n",
       " 'LADYSMITH': 58,\n",
       " 'FLAMBEAU': 26,\n",
       " 'THORNAPPLE': 14,\n",
       " 'GRANT': 77,\n",
       " 'DEWEY': 68,\n",
       " 'STRICKLAND': 6,\n",
       " 'MILWAUKEE': 17472,\n",
       " 'WAUWATOSA': 1486,\n",
       " 'GREENFIELD': 1109,\n",
       " 'FOND DU LAC': 1347,\n",
       " 'EMPIRE': 110,\n",
       " 'CHILTON': 106,\n",
       " 'NEW HOLSTEIN': 75,\n",
       " 'BRILLION': 92,\n",
       " 'SHERWOOD': 22,\n",
       " 'CHARLESTOWN': 18,\n",
       " 'HARRISON': 220,\n",
       " 'BROTHERTOWN': 37,\n",
       " 'WOODVILLE': 63,\n",
       " 'RANTOUL': 23,\n",
       " 'STOCKBRIDGE': 28,\n",
       " 'HILBERT': 10,\n",
       " 'CATO': 63,\n",
       " 'RUSSELL': 35,\n",
       " 'MAPLE GROVE': 75,\n",
       " 'LA CROSSE': 1892,\n",
       " 'ONALASKA': 773,\n",
       " 'SHELBY': 83,\n",
       " 'MEDARY': 31,\n",
       " 'BEAVER': 53,\n",
       " 'LAKE': 36,\n",
       " 'STEPHENSON': 59,\n",
       " 'PESHTIGO': 115,\n",
       " 'GROVER': 56,\n",
       " 'DUNBAR': 15,\n",
       " 'BEECHER': 13,\n",
       " 'COLEMAN': 6,\n",
       " 'MIDDLE INLET': 12,\n",
       " 'PORTERFIELD': 31,\n",
       " 'WAUSAUKEE': 42,\n",
       " 'SILVER CLIFF': 11,\n",
       " 'CRIVITZ': 39,\n",
       " 'AMBERG': 24,\n",
       " 'PEMBINE': 21,\n",
       " 'WAGNER': 19,\n",
       " 'MARINETTE': 282,\n",
       " 'POUND': 32,\n",
       " 'NIAGARA': 32,\n",
       " 'GOODMAN': 7,\n",
       " 'ATHELSTANE': 8,\n",
       " 'SOMERS': 504,\n",
       " 'BRIGHTON': 64,\n",
       " 'SALEM LAKES': 233,\n",
       " 'PARIS': 175,\n",
       " 'WHEATLAND': 88,\n",
       " 'KENOSHA': 2042,\n",
       " 'PADDOCK LAKE': 64,\n",
       " 'PLEASANT PRAIRIE': 688,\n",
       " 'TWIN LAKES': 51,\n",
       " 'RANDALL': 53,\n",
       " 'GENOA CITY': 23,\n",
       " 'RACINE': 1927,\n",
       " 'SALEM': 13,\n",
       " 'ALLOUEZ': 210,\n",
       " 'PULASKI': 48,\n",
       " 'BELLEVUE': 328,\n",
       " 'NEW DENMARK': 76,\n",
       " 'LEDGEVIEW': 119,\n",
       " 'PITTSFIELD': 51,\n",
       " 'SUAMICO': 171,\n",
       " 'HOBART': 150,\n",
       " 'EATON': 81,\n",
       " 'GLENMORE': 26,\n",
       " 'DENMARK': 28,\n",
       " 'WRIGHTSTOWN': 107,\n",
       " 'MORRISON': 21,\n",
       " 'HOLLAND': 185,\n",
       " 'LAWRENCE': 169,\n",
       " 'ROCKLAND': 45,\n",
       " 'ONEIDA': 100,\n",
       " 'KAUKAUNA': 403,\n",
       " 'DE PERE': 298,\n",
       " 'BLACK RIVER FALLS': 103,\n",
       " 'BLOOMER': 69,\n",
       " 'WOODMOHR': 47,\n",
       " 'BOSCOBEL': 63,\n",
       " 'MARION': 116,\n",
       " 'WATTERSTOWN': 18,\n",
       " 'CLINTON': 93,\n",
       " 'MIFFLIN': 10,\n",
       " 'DODGEVILLE': 157,\n",
       " 'RHINE': 91,\n",
       " 'ELKHART LAKE': 7,\n",
       " 'GLENBEULAH': 5,\n",
       " 'FONTANA': 45,\n",
       " 'WALWORTH': 104,\n",
       " 'FOX LAKE': 46,\n",
       " 'JOHNSON CREEK': 74,\n",
       " 'LODI': 74,\n",
       " 'MONTICELLO': 17,\n",
       " 'PLATTEVILLE': 268,\n",
       " 'PRAIRIE DU CHIEN': 91,\n",
       " 'BRIDGEPORT': 39,\n",
       " 'SENECA': 53,\n",
       " 'EASTMAN': 26,\n",
       " 'SEYMOUR': 123,\n",
       " 'SPARTA': 281,\n",
       " 'ANGELO': 55,\n",
       " 'BELOIT': 1127,\n",
       " 'ROCK': 66,\n",
       " 'GENEVA': 158,\n",
       " 'LYONS': 130,\n",
       " 'LA FAYETTE': 112,\n",
       " 'DELAVAN': 283,\n",
       " 'VIROQUA': 153,\n",
       " 'WATERLOO': 83,\n",
       " 'PORTLAND': 55,\n",
       " 'WILLIAMS BAY': 48,\n",
       " 'ROME': 47,\n",
       " 'GLENDALE': 524,\n",
       " 'WEST ALLIS': 1709,\n",
       " 'RIVER HILLS': 125,\n",
       " 'WEST MILWAUKEE': 266,\n",
       " 'OAK CREEK': 1069,\n",
       " 'BAYSIDE': 57,\n",
       " 'CUDAHY': 236,\n",
       " 'SAINT FRANCIS': 138,\n",
       " 'SOUTH MILWAUKEE': 238,\n",
       " 'NEW BERLIN': 696,\n",
       " 'SHOREWOOD': 142,\n",
       " 'FRANKLIN': 586,\n",
       " 'HALES CORNERS': 118,\n",
       " 'GREENDALE': 132,\n",
       " 'MENOMONEE FALLS': 684,\n",
       " 'GERMANTOWN': 543,\n",
       " 'BROOKFIELD': 1221,\n",
       " 'ADAMS': 127,\n",
       " 'ALTOONA': 169,\n",
       " 'WASHINGTON': 351,\n",
       " 'EAU CLAIRE': 1588,\n",
       " 'MONROE': 230,\n",
       " 'CADIZ': 38,\n",
       " 'JORDAN': 33,\n",
       " 'SPRING GROVE': 30,\n",
       " 'CLARNO': 31,\n",
       " 'PRAIRIE DU SAC': 101,\n",
       " 'SAUK CITY': 70,\n",
       " 'STEVENS POINT': 614,\n",
       " 'WHITING': 28,\n",
       " 'PLOVER': 345,\n",
       " 'HULL': 110,\n",
       " 'ELKHORN': 200,\n",
       " 'CLEAR LAKE': 30,\n",
       " 'CLAYTON': 150,\n",
       " 'BLACK BROOK': 21,\n",
       " 'BRODHEAD': 29,\n",
       " 'DARLINGTON': 95,\n",
       " 'WIOTA': 35,\n",
       " 'SHULLSBURG': 27,\n",
       " 'MINERAL POINT': 82,\n",
       " 'ARGYLE': 45,\n",
       " 'BELMONT': 50,\n",
       " 'SOUTH WAYNE': 6,\n",
       " 'WILLOW SPRINGS': 33,\n",
       " 'BLANCHARD': 18,\n",
       " 'WHITE OAK SPRINGS': 6,\n",
       " 'FAYETTE': 19,\n",
       " 'GRATIOT': 22,\n",
       " 'WAYNE': 140,\n",
       " 'KENDALL': 19,\n",
       " 'NEW DIGGINGS': 12,\n",
       " 'ELK GROVE': 14,\n",
       " 'LAMONT': 12,\n",
       " 'BLANCHARDVILLE': 5,\n",
       " 'BENTON': 22,\n",
       " 'METOMEN': 35,\n",
       " 'NEENAH': 663,\n",
       " 'MENASHA': 302,\n",
       " 'LUXEMBURG': 64,\n",
       " 'WAUKESHA': 1515,\n",
       " 'OMRO': 118,\n",
       " 'NEPEUSKUN': 47,\n",
       " 'RUSHFORD': 49,\n",
       " 'WOLF RIVER': 43,\n",
       " 'WINNECONNE': 86,\n",
       " 'WINCHESTER': 83,\n",
       " 'OSHKOSH': 1521,\n",
       " 'NEKIMI': 113,\n",
       " 'BLACK WOLF': 41,\n",
       " 'VINLAND': 113,\n",
       " 'FOX CROSSING': 408,\n",
       " 'ALGOMA': 84,\n",
       " 'UTICA': 46,\n",
       " 'POYGAN': 20,\n",
       " 'CALEDONIA': 584,\n",
       " 'APPLETON': 1479,\n",
       " 'FREEDOM': 104,\n",
       " 'GRAND CHUTE': 1013,\n",
       " 'HARTFORD': 357,\n",
       " 'ERIN': 132,\n",
       " 'RICHFIELD': 310,\n",
       " 'POLK': 258,\n",
       " 'JACKSON': 227,\n",
       " 'WEST BEND': 935,\n",
       " 'BARTON': 100,\n",
       " 'SLINGER': 174,\n",
       " 'ADDISON': 179,\n",
       " 'FARMINGTON': 315,\n",
       " 'TRENTON': 179,\n",
       " 'KEWASKUM': 129,\n",
       " 'NEWBURG': 11,\n",
       " 'LISBON': 273,\n",
       " 'NORTH HUDSON': 23,\n",
       " 'HUDSON': 696,\n",
       " 'ELK MOUND': 94,\n",
       " 'UNION': 256,\n",
       " 'LAKE HALLIE': 221,\n",
       " 'BRIDGE CREEK': 29,\n",
       " 'FAIRCHILD': 14,\n",
       " 'LINCOLN': 275,\n",
       " 'BRUNSWICK': 39,\n",
       " 'PLEASANT VALLEY': 83,\n",
       " 'DRAMMEN': 15,\n",
       " 'LUDINGTON': 20,\n",
       " 'WILSON': 153,\n",
       " 'FALL CREEK': 9,\n",
       " 'CLEAR CREEK': 40,\n",
       " 'AUGUSTA': 9,\n",
       " 'OTTER CREEK': 31,\n",
       " 'SOMERSET': 156,\n",
       " 'STAR PRAIRIE': 79,\n",
       " 'WEBSTER': 30,\n",
       " 'SAND LAKE': 35,\n",
       " 'ROOSEVELT': 12,\n",
       " 'SWISS': 18,\n",
       " 'DANIELS': 6,\n",
       " 'MEENON': 24,\n",
       " 'WEBB LAKE': 6,\n",
       " 'SIREN': 34,\n",
       " 'GRANTSBURG': 28,\n",
       " 'ANDERSON': 6,\n",
       " 'RUSK': 14,\n",
       " 'BLAINE': 1,\n",
       " 'TRADE LAKE': 5,\n",
       " 'WOOD RIVER': 8,\n",
       " 'LA FOLLETTE': 9,\n",
       " 'CLAM FALLS': 8,\n",
       " 'OAKLAND': 95,\n",
       " 'WEST MARSHLAND': 2,\n",
       " 'BIRCHWOOD': 16,\n",
       " 'EDGEWATER': 12,\n",
       " 'KRONENWETTER': 103,\n",
       " 'MOSINEE': 134,\n",
       " 'NEKOOSA': 23,\n",
       " 'ROTHSCHILD': 195,\n",
       " 'RIB MOUNTAIN': 265,\n",
       " 'CLEVELAND': 88,\n",
       " 'SHAWANO': 148,\n",
       " 'WAUKECHON': 33,\n",
       " 'WESCOTT': 50,\n",
       " 'PELLA': 8,\n",
       " 'BONDUEL': 20,\n",
       " 'RIPON': 180,\n",
       " 'ROSENDALE': 63,\n",
       " 'REEDSVILLE': 11,\n",
       " 'CAMPBELLSPORT': 22,\n",
       " 'AUBURN': 89,\n",
       " 'KEWAUNEE': 26,\n",
       " 'WEST KEWAUNEE': 39,\n",
       " 'WAUPACA': 184,\n",
       " 'LIND': 33,\n",
       " 'CASCO': 36,\n",
       " 'MONTPELIER': 21,\n",
       " 'AHNAPEE': 26,\n",
       " 'RED RIVER': 30,\n",
       " 'PIERCE': 32,\n",
       " 'CARLTON': 23,\n",
       " 'WISCONSIN RAPIDS': 490,\n",
       " 'GRAND RAPIDS': 77,\n",
       " 'WISCONSIN DELLS': 219,\n",
       " 'DELTON': 164,\n",
       " 'DELL PRAIRIE': 37,\n",
       " 'OAKFIELD': 52,\n",
       " 'MEQUON': 382,\n",
       " 'MANITOWOC': 823,\n",
       " 'NEWTON': 125,\n",
       " 'PEWAUKEE': 760,\n",
       " 'OTTAWA': 57,\n",
       " 'SUSSEX': 142,\n",
       " 'BIG BEND': 91,\n",
       " 'VERNON': 87,\n",
       " 'MERTON': 138,\n",
       " 'DELAFIELD': 431,\n",
       " 'OCONOMOWOC': 557,\n",
       " 'GENESEE': 124,\n",
       " 'NASHOTAH': 17,\n",
       " 'SUMMIT': 186,\n",
       " 'WALES': 71,\n",
       " 'EAGLE': 83,\n",
       " 'MUKWONAGO': 342,\n",
       " 'NORTH PRAIRIE': 11,\n",
       " 'MUSKEGO': 264,\n",
       " 'HARTLAND': 157,\n",
       " 'CHENEQUA': 37,\n",
       " 'LANNON': 26,\n",
       " 'PALMYRA': 43,\n",
       " 'WORCESTER': 30,\n",
       " 'PHILLIPS': 21,\n",
       " 'HORTONVILLE': 49,\n",
       " 'MANITOWOC RAPIDS': 97,\n",
       " 'GIBSON': 46,\n",
       " 'COOPERSTOWN': 69,\n",
       " 'TWO RIVERS': 237,\n",
       " 'LIBERTY': 125,\n",
       " 'MISHICOT': 44,\n",
       " 'CENTERVILLE': 62,\n",
       " 'SCHLESWIG': 75,\n",
       " 'TWO CREEKS': 21,\n",
       " 'MEEME': 28,\n",
       " 'KOSSUTH': 104,\n",
       " 'SAINT NAZIANZ': 3,\n",
       " 'FRANCIS CREEK': 6,\n",
       " 'VALDERS': 12,\n",
       " 'WHITELAW': 6,\n",
       " 'KIEL': 71,\n",
       " 'MARIBEL': 2,\n",
       " 'KELLNERSVILLE': 2,\n",
       " 'GRAND VIEW': 11,\n",
       " 'MASON': 8,\n",
       " 'BARNES': 17,\n",
       " 'HUGHES': 11,\n",
       " 'BARKSDALE': 22,\n",
       " 'BAYVIEW': 12,\n",
       " 'WASHBURN': 28,\n",
       " 'IRON RIVER': 25,\n",
       " 'EILEEN': 36,\n",
       " 'ORIENTA': 4,\n",
       " 'NAMEKAGON': 7,\n",
       " 'KELLY': 11,\n",
       " 'KEYSTONE': 16,\n",
       " 'DRUMMOND': 15,\n",
       " 'DELTA': 6,\n",
       " 'OULU': 6,\n",
       " 'CABLE': 15,\n",
       " 'BAYFIELD': 29,\n",
       " 'BELL': 9,\n",
       " 'PILSEN': 3,\n",
       " 'PORT WING': 1,\n",
       " 'CLOVER': 3,\n",
       " 'TRIPP': 1,\n",
       " 'WHITE RIVER': 19,\n",
       " 'ASHLAND': 159,\n",
       " 'BUTTERNUT': 6,\n",
       " 'MORSE': 19,\n",
       " 'AGENDA': 7,\n",
       " 'MARENGO': 4,\n",
       " 'GINGLES': 19,\n",
       " 'SANBORN': 38,\n",
       " 'GORDON': 26,\n",
       " 'PEEKSVILLE': 5,\n",
       " 'JACOBS': 6,\n",
       " 'CHIPPEWA': 7,\n",
       " 'SHANAGOLDEN': 5,\n",
       " 'LITTLE CHUTE': 234,\n",
       " 'KIMBERLY': 94,\n",
       " 'VANDENBROEK': 34,\n",
       " 'RICE LAKE': 263,\n",
       " 'BARRON': 74,\n",
       " 'OAK GROVE': 123,\n",
       " 'SUMNER': 71,\n",
       " 'CRYSTAL LAKE': 22,\n",
       " 'CUMBERLAND': 46,\n",
       " 'CHETEK': 45,\n",
       " 'ALMENA': 10,\n",
       " 'DOVRE': 22,\n",
       " 'CAMERON': 26,\n",
       " 'STANLEY': 88,\n",
       " 'STANFOLD': 15,\n",
       " 'VANCE CREEK': 8,\n",
       " 'DALLAS': 9,\n",
       " 'PRAIRIE FARM': 7,\n",
       " 'PRAIRIE LAKE': 11,\n",
       " 'TURTLE LAKE': 25,\n",
       " 'SIOUX CREEK': 8,\n",
       " 'HAUGEN': 1,\n",
       " 'MAPLE PLAIN': 6,\n",
       " 'BEAR LAKE': 6,\n",
       " 'LAKELAND': 8,\n",
       " 'CEDAR LAKE': 4,\n",
       " 'DOYLE': 3,\n",
       " 'ARLAND': 4,\n",
       " 'THREE LAKES': 36,\n",
       " 'RICHMOND': 148,\n",
       " 'WARREN': 112,\n",
       " 'GLENWOOD': 26,\n",
       " 'KINNICKINNIC': 55,\n",
       " 'SAINT JOSEPH': 116,\n",
       " 'BALDWIN': 135,\n",
       " 'EMERALD': 35,\n",
       " 'CYLON': 43,\n",
       " 'CADY': 111,\n",
       " 'FOREST': 86,\n",
       " 'TROY': 169,\n",
       " 'STANTON': 50,\n",
       " 'EAU GALLE': 92,\n",
       " 'RUSH RIVER': 39,\n",
       " 'HAMMOND': 58,\n",
       " 'ROBERTS': 56,\n",
       " 'GLENWOOD CITY': 9,\n",
       " 'ERIN PRAIRIE': 34,\n",
       " 'DEER PARK': 4,\n",
       " 'NEW RICHMOND': 225,\n",
       " 'PEPIN': 15,\n",
       " 'NEWBOLD': 42,\n",
       " 'NOKOMIS': 33,\n",
       " 'PELICAN': 53,\n",
       " 'LAKE TOMAHAWK': 14,\n",
       " 'HAZELHURST': 35,\n",
       " 'WOODBORO': 16,\n",
       " 'CRESCENT': 46,\n",
       " 'RHINELANDER': 222,\n",
       " 'PINE LAKE': 47,\n",
       " 'LITTLE RICE': 5,\n",
       " 'SUGAR CAMP': 41,\n",
       " 'CASSIAN': 33,\n",
       " 'STELLA': 8,\n",
       " 'SCHOEPKE': 11,\n",
       " 'MONICO': 13,\n",
       " 'MINOCQUA': 181,\n",
       " 'TOMAHAWK': 60,\n",
       " 'KING': 25,\n",
       " 'ENTERPRISE': 9,\n",
       " 'PIEHL': 3,\n",
       " 'LYNNE': 3,\n",
       " 'BANGOR': 83,\n",
       " 'HAMILTON': 109,\n",
       " 'HOLMEN': 161,\n",
       " 'BURNS': 64,\n",
       " 'BARRE': 37,\n",
       " 'CAMPBELL': 57,\n",
       " 'WEST SALEM': 104,\n",
       " 'LA GRANGE': 176,\n",
       " 'LITTLE FALLS': 42,\n",
       " 'TOMAH': 301,\n",
       " 'WARRENS': 6,\n",
       " 'SHELDON': 9,\n",
       " 'WILTON': 29,\n",
       " 'NORWALK': 6,\n",
       " 'ADRIAN': 42,\n",
       " 'CASHTON': 21,\n",
       " 'WELLS': 26,\n",
       " 'JEFFERSON': 284,\n",
       " 'WELLINGTON': 12,\n",
       " 'LEON': 34,\n",
       " 'CLIFTON': 47,\n",
       " 'BYRON': 150,\n",
       " 'OAKDALE': 74,\n",
       " 'RIDGEVILLE': 15,\n",
       " 'WYEVILLE': 2,\n",
       " 'MELVINA': 1,\n",
       " 'KNAPP': 3,\n",
       " 'KINGSTON': 18,\n",
       " 'RIVER FALLS': 314,\n",
       " 'MENOMONIE': 444,\n",
       " 'FORESTVILLE': 44,\n",
       " 'STURGEON BAY': 207,\n",
       " 'NASEWAUPEE': 95,\n",
       " 'CLAY BANKS': 16,\n",
       " 'BRUSSELS': 48,\n",
       " 'JACKSONPORT': 39,\n",
       " 'SEVASTOPOL': 84,\n",
       " 'LIBERTY GROVE': 55,\n",
       " 'BAILEYS HARBOR': 59,\n",
       " 'SISTER BAY': 24,\n",
       " 'EGG HARBOR': 54,\n",
       " 'GARDNER': 23,\n",
       " 'GIBRALTAR': 52,\n",
       " 'EPHRAIM': 15,\n",
       " 'MARTELL': 13,\n",
       " 'EL PASO': 10,\n",
       " 'GILMAN': 18,\n",
       " 'SPRING LAKE': 10,\n",
       " 'PLUM CITY': 7,\n",
       " 'TRIMBELLE': 28,\n",
       " 'ELLSWORTH': 57,\n",
       " 'MAIDEN ROCK': 9,\n",
       " 'DIAMOND BLUFF': 8,\n",
       " 'BAY CITY': 5,\n",
       " 'SPRING VALLEY': 23,\n",
       " 'ISABELLE': 6,\n",
       " 'ROCK ELM': 8,\n",
       " 'ELMWOOD': 4,\n",
       " 'WAUSAU': 963,\n",
       " 'TEXAS': 21,\n",
       " 'STETTIN': 65,\n",
       " 'MAINE': 130,\n",
       " 'LOWVILLE': 38,\n",
       " 'DEKORRA': 148,\n",
       " 'LEWISTON': 46,\n",
       " 'MARCELLON': 35,\n",
       " 'COURTLAND': 12,\n",
       " 'COLUMBUS': 115,\n",
       " 'ARLINGTON': 167,\n",
       " 'LEEDS': 36,\n",
       " 'HAMPDEN': 17,\n",
       " 'WYOCENA': 51,\n",
       " 'PACIFIC': 26,\n",
       " 'OTSEGO': 17,\n",
       " 'RANDOLPH': 39,\n",
       " 'PARDEEVILLE': 23,\n",
       " 'PORTAGE': 302,\n",
       " 'FORT WINNEBAGO': 69,\n",
       " 'FOUNTAIN PRAIRIE': 14,\n",
       " 'SPRINGVALE': 55,\n",
       " 'NEWPORT': 23,\n",
       " 'CAMBRIA': 4,\n",
       " 'POYNETTE': 16,\n",
       " 'FALL RIVER': 4,\n",
       " 'DOYLESTOWN': 4,\n",
       " 'ELBA': 33,\n",
       " 'RIO': 8,\n",
       " 'FRIESLAND': 1,\n",
       " 'GEORGETOWN': 15,\n",
       " 'CONCORD': 109,\n",
       " 'KOSHKONONG': 112,\n",
       " 'AZTALAN': 57,\n",
       " 'SULLIVAN': 37,\n",
       " 'WATERTOWN': 494,\n",
       " 'LAKE MILLS': 128,\n",
       " 'IXONIA': 80,\n",
       " 'HEBRON': 33,\n",
       " 'COLD SPRING': 31,\n",
       " 'MILFORD': 41,\n",
       " 'FORT ATKINSON': 202,\n",
       " 'WHITEWATER': 258,\n",
       " 'MUKWA': 28,\n",
       " 'BEAR CREEK': 46,\n",
       " 'MATTESON': 13,\n",
       " 'HELVETIA': 10,\n",
       " 'WEYAUWEGA': 32,\n",
       " 'DUPONT': 8,\n",
       " 'FREMONT': 59,\n",
       " 'OGDENSBURG': 2,\n",
       " 'IOLA': 17,\n",
       " 'ROYALTON': 17,\n",
       " 'LARRABEE': 20,\n",
       " 'EMBARRASS': 4,\n",
       " 'LITTLE WOLF': 17,\n",
       " 'DAYTON': 48,\n",
       " 'SCANDINAVIA': 10,\n",
       " 'SAINT LAWRENCE': 6,\n",
       " 'LEBANON': 30,\n",
       " 'WYOMING': 21,\n",
       " 'NEW LONDON': 117,\n",
       " 'MANAWA': 8,\n",
       " 'BLACK CREEK': 67,\n",
       " 'HORTONIA': 74,\n",
       " 'CENTER': 135,\n",
       " 'BOVINA': 37,\n",
       " 'OSBORNE': 27,\n",
       " 'ELLINGTON': 58,\n",
       " 'MAPLE CREEK': 10,\n",
       " 'DEER CREEK': 27,\n",
       " 'DALE': 42,\n",
       " 'GREENVILLE': 176,\n",
       " 'COMBINED LOCKS': 36,\n",
       " 'BUCHANAN': 234,\n",
       " 'CICERO': 25,\n",
       " 'SHIOCTON': 9,\n",
       " 'NICHOLS': 2,\n",
       " 'WESTFIELD': 59,\n",
       " 'BROWN DEER': 238,\n",
       " 'WOODRUFF': 61,\n",
       " 'MOSCOW': 15,\n",
       " 'WITTENBERG': 43,\n",
       " 'MORRIS': 24,\n",
       " 'BOWLER': 3,\n",
       " 'HERMAN': 116,\n",
       " 'GREEN VALLEY': 13,\n",
       " 'ALMON': 7,\n",
       " 'BARTELME': 19,\n",
       " 'ANIWA': 14,\n",
       " 'BELLE PLAINE': 28,\n",
       " 'MATTOON': 2,\n",
       " 'ANGELICA': 31,\n",
       " 'RED SPRINGS': 12,\n",
       " 'HUTCHINS': 11,\n",
       " 'CECIL': 13,\n",
       " 'ELAND': 1,\n",
       " 'FAIRBANKS': 7,\n",
       " 'LESSOR': 10,\n",
       " 'NAVARINO': 6,\n",
       " 'BIRNAMWOOD': 10,\n",
       " 'GERMANIA': 4,\n",
       " 'TIGERTON': 4,\n",
       " 'GRESHAM': 7,\n",
       " 'MORGAN': 20,\n",
       " 'OSCEOLA': 112,\n",
       " 'WHITEFISH BAY': 132,\n",
       " 'COLBY': 57,\n",
       " 'LONGWOOD': 38,\n",
       " 'WESTON': 428,\n",
       " 'MAYVILLE': 70,\n",
       " 'DEWHURST': 11,\n",
       " 'LYNN': 9,\n",
       " 'LEVIS': 19,\n",
       " 'DORCHESTER': 6,\n",
       " 'WITHEE': 21,\n",
       " 'GREEN GROVE': 42,\n",
       " 'WARNER': 5,\n",
       " 'THORP': 57,\n",
       " 'RESEBURG': 8,\n",
       " 'SHERMAN': 121,\n",
       " 'HEWETT': 15,\n",
       " 'PINE VALLEY': 27,\n",
       " 'HIXON': 8,\n",
       " 'WORDEN': 5,\n",
       " 'MENTOR': 15,\n",
       " 'LOYAL': 27,\n",
       " 'FOSTER': 9,\n",
       " 'UNITY': 23,\n",
       " 'OWEN': 12,\n",
       " 'HOARD': 13,\n",
       " 'ABBOTSFORD': 69,\n",
       " 'MEAD': 7,\n",
       " 'BUTLER': 48,\n",
       " 'NEILLSVILLE': 36,\n",
       " 'CURTISS': 2,\n",
       " 'HENDREN': 2,\n",
       " 'GREENWOOD': 33,\n",
       " 'SEIF': 1,\n",
       " 'ALBANY': 56,\n",
       " 'CLINTONVILLE': 74,\n",
       " 'EVANSVILLE': 48,\n",
       " 'ELDORADO': 75,\n",
       " 'WAUPUN': 204,\n",
       " 'ASHFORD': 41,\n",
       " 'FRIENDSHIP': 64,\n",
       " 'LAMARTINE': 47,\n",
       " 'ALTO': 24,\n",
       " 'TAYCHEEDAH': 71,\n",
       " 'EDEN': 78,\n",
       " 'MARSHFIELD': 393,\n",
       " 'CALUMET': 35,\n",
       " 'NORTH FOND DU LAC': 58,\n",
       " 'MITCHELL': 37,\n",
       " 'MOUNT CALVARY': 1,\n",
       " 'LOMIRA': 101,\n",
       " 'FAIRWATER': 2,\n",
       " 'BEAVER DAM': 368,\n",
       " 'SAINT CLOUD': 1,\n",
       " 'CHESTER': 50,\n",
       " 'GRAFTON': 355,\n",
       " 'BIRON': 16,\n",
       " 'HAYWARD': 169,\n",
       " 'LENROOT': 20,\n",
       " 'RIDGEWAY': 46,\n",
       " 'BRIGHAM': 45,\n",
       " 'COBB': 3,\n",
       " 'HIGHLAND': 17,\n",
       " 'BARNEVELD': 8,\n",
       " 'WALDWICK': 5,\n",
       " 'LINDEN': 19,\n",
       " 'CLYDE': 24,\n",
       " 'ARENA': 33,\n",
       " 'AVOCA': 2,\n",
       " 'MONTFORT': 8,\n",
       " 'MUSCODA': 39,\n",
       " 'HOLLANDALE': 1,\n",
       " 'BROCKWAY': 66,\n",
       " 'GARFIELD': 46,\n",
       " 'NORTHFIELD': 67,\n",
       " 'MANCHESTER': 41,\n",
       " 'CITY POINT': 8,\n",
       " 'IRVING': 17,\n",
       " 'HIXTON': 41,\n",
       " 'MELROSE': 21,\n",
       " 'ALMA': 39,\n",
       " 'ALMA CENTER': 3,\n",
       " 'NORTH BEND': 14,\n",
       " 'MILLSTON': 24,\n",
       " 'GARDEN VALLEY': 3,\n",
       " 'MERRILLAN': 4,\n",
       " 'KOMENSKY': 14,\n",
       " 'CURRAN': 10,\n",
       " 'TAYLOR': 1,\n",
       " 'RIB FALLS': 27,\n",
       " 'MC MILLAN': 42,\n",
       " 'HOLTON': 30,\n",
       " 'NORRIE': 36,\n",
       " 'REID': 20,\n",
       " 'CASSEL': 27,\n",
       " 'EMMETT': 17,\n",
       " 'JOHNSON': 13,\n",
       " 'KNOWLTON': 56,\n",
       " 'BEVENT': 11,\n",
       " 'BERGEN': 27,\n",
       " 'RINGLE': 36,\n",
       " 'BERN': 8,\n",
       " 'EAU PLEINE': 44,\n",
       " 'EASTON': 48,\n",
       " 'BERLIN': 130,\n",
       " 'WIEN': 30,\n",
       " 'MARATHON CITY': 31,\n",
       " 'DAY': 17,\n",
       " 'HEWITT': 14,\n",
       " 'FRANKFORT': 25,\n",
       " 'SPENCER': 48,\n",
       " 'ELDERON': 15,\n",
       " 'ATHENS': 13,\n",
       " 'FRANZEN': 13,\n",
       " 'HATLEY': 5,\n",
       " 'RIETBROCK': 18,\n",
       " 'EDGAR': 5,\n",
       " 'HALSEY': 9,\n",
       " 'MARATHON': 25,\n",
       " 'HAMBURG': 23,\n",
       " 'GUENTHER': 2,\n",
       " 'STRATFORD': 14,\n",
       " 'SHARON': 66,\n",
       " 'BELGIUM': 64,\n",
       " 'FREDONIA': 104,\n",
       " 'PORT WASHINGTON': 196,\n",
       " 'CEDARBURG': 301,\n",
       " 'SAUKVILLE': 242,\n",
       " 'BUENA VISTA': 81,\n",
       " 'YORKVILLE': 214,\n",
       " 'RAYMOND': 171,\n",
       " 'MOUNT PLEASANT': 924,\n",
       " 'DOVER': 68,\n",
       " 'NORWAY': 67,\n",
       " 'BURLINGTON': 333,\n",
       " 'ROCHESTER': 63,\n",
       " 'WATERFORD': 180,\n",
       " 'UNION GROVE': 45,\n",
       " 'ELMWOOD PARK': 6,\n",
       " 'WIND POINT': 6,\n",
       " 'JANESVILLE': 1505,\n",
       " 'PLYMOUTH': 388,\n",
       " 'BRADFORD': 32,\n",
       " 'LA PRAIRIE': 97,\n",
       " 'PORTER': 20,\n",
       " 'MILTON': 175,\n",
       " 'LIMA': 136,\n",
       " 'JOHNSTOWN': 27,\n",
       " 'HARMONY': 61,\n",
       " 'AVON': 17,\n",
       " 'NEWARK': 22,\n",
       " 'TURTLE': 102,\n",
       " 'ORFORDVILLE': 15,\n",
       " 'MAGNOLIA': 31,\n",
       " 'FOOTVILLE': 4,\n",
       " 'FULTON': 91,\n",
       " 'ATLANTA': 8,\n",
       " 'STUBBS': 7,\n",
       " 'WILLARD': 9,\n",
       " 'MURRY': 1,\n",
       " 'RICHLAND': 54,\n",
       " 'HUBBARD': 63,\n",
       " 'HAWKINS': 8,\n",
       " 'GROW': 9,\n",
       " 'TONY': 3,\n",
       " 'WILKINSON': 2,\n",
       " 'SOUTH FORKS': 1,\n",
       " 'TRUE': 3,\n",
       " 'BRUCE': 2,\n",
       " 'GLEN FLORA': 1,\n",
       " 'WEST BARABOO': 70,\n",
       " 'IRONTON': 25,\n",
       " 'REEDSBURG': 188,\n",
       " 'FAIRFIELD': 72,\n",
       " 'DELLONA': 37,\n",
       " 'SUMPTER': 45,\n",
       " 'SPRING GREEN': 60,\n",
       " 'MERRIMAC': 33,\n",
       " 'WINFIELD': 27,\n",
       " 'LOGANVILLE': 2,\n",
       " 'LA VALLE': 44,\n",
       " 'EXCELSIOR': 45,\n",
       " 'BARABOO': 268,\n",
       " 'HONEY CREEK': 15,\n",
       " 'WOODLAND': 14,\n",
       " 'PLAIN': 8,\n",
       " 'LAKE DELTON': 321,\n",
       " 'BASS LAKE': 40,\n",
       " 'WINTER': 12,\n",
       " 'HUNTER': 13,\n",
       " 'WEIRGOR': 12,\n",
       " 'MEADOW BROOK': 8,\n",
       " 'RADISSON': 9,\n",
       " 'ROUND LAKE': 9,\n",
       " 'SPIDER LAKE': 9,\n",
       " 'DRAPER': 5,\n",
       " 'OJIBWA': 4,\n",
       " 'COUDERAY': 9,\n",
       " 'METEOR': 1,\n",
       " 'ST. CROIX FALLS': 46,\n",
       " 'SAINT CROIX FALLS': 63,\n",
       " 'SUPERIOR': 712,\n",
       " 'LINN': 67,\n",
       " 'THERESA': 41,\n",
       " 'SPRING PRAIRIE': 72,\n",
       " 'DARIEN': 115,\n",
       " 'EAST TROY': 150,\n",
       " 'SUGAR CREEK': 75,\n",
       " 'LAKE GENEVA': 190,\n",
       " 'BLOOMFIELD': 151,\n",
       " 'TAINTER': 25,\n",
       " 'COLFAX': 20,\n",
       " 'HAY RIVER': 8,\n",
       " 'TIFFANY': 7,\n",
       " 'LUCAS': 72,\n",
       " 'RED CEDAR': 47,\n",
       " 'SPRINGBROOK': 20,\n",
       " 'ROCK CREEK': 16,\n",
       " 'NEW HAVEN': 17,\n",
       " 'SHERIDAN': 5,\n",
       " 'DOWNING': 3,\n",
       " 'RIDGELAND': 3,\n",
       " 'SAND CREEK': 5,\n",
       " 'BOYCEVILLE': 9,\n",
       " 'PERU': 9,\n",
       " 'COOKS VALLEY': 8,\n",
       " 'SARATOGA': 50,\n",
       " 'SIGEL': 58,\n",
       " 'HILES': 11,\n",
       " 'WOOD': 18,\n",
       " 'MILLADORE': 17,\n",
       " 'SHERRY': 9,\n",
       " 'ARPIN': 17,\n",
       " 'CARY': 7,\n",
       " 'CRANMOOR': 10,\n",
       " 'RUDOLPH': 30,\n",
       " 'PORT EDWARDS': 39,\n",
       " 'DEXTER': 13,\n",
       " 'AUBURNDALE': 20,\n",
       " 'REMINGTON': 6,\n",
       " 'VESPER': 2,\n",
       " 'HANSEN': 20,\n",
       " 'CARSON': 35,\n",
       " 'PITTSVILLE': 9,\n",
       " 'FINLEY': 4,\n",
       " 'PARKLAND': 25,\n",
       " 'SOLON SPRINGS': 26,\n",
       " 'LAKE NEBAGAMON': 8,\n",
       " 'MAPLE': 12,\n",
       " 'HAWTHORNE': 11,\n",
       " 'AMNICON': 26,\n",
       " 'CLOVERLAND': 26,\n",
       " 'POPLAR': 13,\n",
       " 'BRULE': 10,\n",
       " 'LAKESIDE': 7,\n",
       " 'OLIVER': 3,\n",
       " 'BENNETT': 9,\n",
       " 'WASCOTT': 14,\n",
       " 'DAIRYLAND': 9,\n",
       " 'MARQUETTE': 13,\n",
       " 'GREEN LAKE': 28,\n",
       " 'MARKESAN': 3,\n",
       " 'PRINCETON': 34,\n",
       " 'SAINT MARIE': 7,\n",
       " 'MACKFORD': 17,\n",
       " 'HURLEY': 27,\n",
       " 'LENA': 29,\n",
       " 'ELM GROVE': 106,\n",
       " 'MERRILL': 256,\n",
       " 'HORICON': 61,\n",
       " 'BURNETT': 19,\n",
       " 'WESTBY': 25,\n",
       " 'CADOTT': 21,\n",
       " 'GOETZ': 15,\n",
       " 'CLEARFIELD': 38,\n",
       " 'WONEWOC': 16,\n",
       " 'LYNDON': 172,\n",
       " 'KILDARE': 32,\n",
       " 'MAUSTON': 149,\n",
       " 'UNION CENTER': 4,\n",
       " 'SEVEN MILE CREEK': 9,\n",
       " 'CUTLER': 8,\n",
       " 'CAMP DOUGLAS': 12,\n",
       " 'NEW LISBON': 21,\n",
       " 'ARMENIA': 5,\n",
       " 'LYNDON STATION': 22,\n",
       " 'LEMONWEIR': 72,\n",
       " 'LINDINA': 31,\n",
       " 'NECEDAH': 46,\n",
       " 'ORANGE': 39,\n",
       " 'ELROY': 11,\n",
       " 'FOUNTAIN': 9,\n",
       " 'ARCADIA': 101,\n",
       " 'TREMPEALEAU': 46,\n",
       " 'CHIPPEWA FALLS': 246,\n",
       " 'WHEATON': 90,\n",
       " 'TILDEN': 73,\n",
       " 'EAGLE POINT': 63,\n",
       " 'LAFAYETTE': 86,\n",
       " 'PACKWAUKEE': 46,\n",
       " 'MONTELLO': 27,\n",
       " 'OXFORD': 25,\n",
       " 'HARRIS': 26,\n",
       " 'SHIELDS': 26,\n",
       " 'NESHKORO': 12,\n",
       " 'MOUNDVILLE': 41,\n",
       " 'BUFFALO': 37,\n",
       " 'MECAN': 10,\n",
       " 'DOUGLAS': 14,\n",
       " 'ENDEAVOR': 3,\n",
       " 'OSSEO': 62,\n",
       " 'LAKEWOOD': 17,\n",
       " 'MAPLE VALLEY': 12,\n",
       " 'MOUNTAIN': 16,\n",
       " 'UNDERHILL': 11,\n",
       " 'RIVERVIEW': 13,\n",
       " 'DOTY': 9,\n",
       " 'BRAZEAU': 17,\n",
       " 'SPRUCE': 15,\n",
       " 'BREED': 18,\n",
       " 'BAGLEY': 5,\n",
       " 'TOWNSEND': 15,\n",
       " 'PENSAUKEE': 31,\n",
       " 'LITTLE RIVER': 34,\n",
       " 'ABRAMS': 59,\n",
       " 'STILES': 47,\n",
       " 'OCONTO': 68,\n",
       " 'LITTLE SUAMICO': 55,\n",
       " 'CHASE': 13,\n",
       " 'OCONTO FALLS': 40,\n",
       " 'GILLETT': 37,\n",
       " 'HOW': 7,\n",
       " 'SURING': 6,\n",
       " 'AMERY': 30,\n",
       " 'PINE RIVER': 86,\n",
       " 'BRADLEY': 93,\n",
       " 'SCHLEY': 26,\n",
       " 'CORNING': 24,\n",
       " 'BIRCH': 28,\n",
       " 'HARDING': 5,\n",
       " 'SKANAWAN': 17,\n",
       " 'ROCK FALLS': 25,\n",
       " 'SOMO': 9,\n",
       " 'PRESCOTT': 62,\n",
       " 'BELLEVILLE': 13,\n",
       " 'MELLEN': 4,\n",
       " 'DELMAR': 31,\n",
       " 'BOYD': 6,\n",
       " 'EDSON': 27,\n",
       " 'GALE': 43,\n",
       " 'ETTRICK': 34,\n",
       " ...}"
      ]
     },
     "execution_count": 8,
     "metadata": {},
     "output_type": "execute_result"
    }
   ],
   "source": [
    "muni_statistic = {} #store the value of crashes in municipality in a dic that key is the name of the municipality and value is the \n",
    "#number of crashes for that municipality\n",
    "for i in crash_dic['muniname']:\n",
    "    if i not in muni_statistic:\n",
    "        muni_statistic[i] = 1\n",
    "    else:\n",
    "        muni_statistic[i] += 1\n",
    "muni_statistic"
   ]
  },
  {
   "cell_type": "markdown",
   "id": "10c76a2d",
   "metadata": {},
   "source": [
    "**Q2 find the top 10 municipality in the order of their crashes data from most to least**"
   ]
  },
  {
   "cell_type": "code",
   "execution_count": 9,
   "id": "0998af19",
   "metadata": {},
   "outputs": [
    {
     "data": {
      "text/plain": [
       "{'MILWAUKEE': 17472,\n",
       " 'MADISON': 3658,\n",
       " 'KENOSHA': 2042,\n",
       " 'RACINE': 1927,\n",
       " 'LA CROSSE': 1892,\n",
       " 'WEST ALLIS': 1709,\n",
       " 'EAU CLAIRE': 1588,\n",
       " 'OSHKOSH': 1521,\n",
       " 'WAUKESHA': 1515,\n",
       " 'JANESVILLE': 1505}"
      ]
     },
     "execution_count": 9,
     "metadata": {},
     "output_type": "execute_result"
    }
   ],
   "source": [
    "sorted_muni_statistic = dict(sorted(muni_statistic.items(), key=lambda item: item[1],reverse = True))\n",
    "top_10_muni = {}\n",
    "count = 0\n",
    "for i in sorted_muni_statistic:\n",
    "    if count == 10:\n",
    "        break;\n",
    "    else:\n",
    "        top_10_muni[i] = sorted_muni_statistic[i]\n",
    "        count = count + 1\n",
    "top_10_muni"
   ]
  },
  {
   "cell_type": "markdown",
   "id": "693561db",
   "metadata": {},
   "source": [
    "**Q3 draw bar plot for the top 10 manucipality**"
   ]
  },
  {
   "cell_type": "code",
   "execution_count": 10,
   "id": "e9d98ffc",
   "metadata": {},
   "outputs": [
    {
     "data": {
      "text/plain": [
       "Text(0, 0.5, 'crashes number')"
      ]
     },
     "execution_count": 10,
     "metadata": {},
     "output_type": "execute_result"
    },
    {
     "data": {
      "image/png": "[encoded data removed]",
      "text/plain": [
       "<Figure size 600x400 with 1 Axes>"
      ]
     },
     "metadata": {},
     "output_type": "display_data"
    }
   ],
   "source": [
    "ax = pandas.Series(top_10_muni).plot.bar(color=\"black\", fontsize=16, figsize=(4 + len(top_10_muni)//4, 4),title = \"crashes number for top 10 municipality in Wisconsin\")\n",
    "ax.set_ylabel(\"crashes number\", fontsize=16)"
   ]
  },
  {
   "cell_type": "markdown",
   "id": "581f99df",
   "metadata": {},
   "source": [
    "# Find statistics for ntfyhour and analyze the value\n",
    "\n",
    "find min, max, mean and median vlaue for ntfyhour to see the enformcement agency respond time"
   ]
  },
  {
   "cell_type": "markdown",
   "id": "6c882271",
   "metadata": {},
   "source": [
    "**Q4 find the mean, max, and min value for the one hour range in which the enformcement agency was notified of the crash listed in military time**"
   ]
  },
  {
   "cell_type": "code",
   "execution_count": 11,
   "id": "32fd9bd9",
   "metadata": {},
   "outputs": [
    {
     "name": "stdout",
     "output_type": "stream",
     "text": [
      "The mean time is 13.08, the max time is 23, and the min time is 0 \n"
     ]
    }
   ],
   "source": [
    "ntfyHour = crash_dic['ntfyhour'] #make a list to store the ntfyhour\n",
    "\n",
    "mean_ntfyHour = (sum(ntfyHour)/len(ntfyHour)) #mean value of the time\n",
    "mean_ntfyHour = float(\"{:.2f}\".format(mean_ntfyHour)) #format to be two decimal\n",
    "max_ntfyHour = max(ntfyHour) # max value of time\n",
    "min_ntfyHour = min(ntfyHour) #min value of time\n",
    "print(\"The mean time is {}, the max time is {}, and the min time is {} \".format(mean_ntfyHour, max_ntfyHour,min_ntfyHour))"
   ]
  },
  {
   "cell_type": "markdown",
   "id": "352dfd80",
   "metadata": {},
   "source": [
    "**Q5 find the median value of the ntfyHour**"
   ]
  },
  {
   "cell_type": "code",
   "execution_count": 12,
   "id": "f80fdc3d",
   "metadata": {},
   "outputs": [
    {
     "data": {
      "text/plain": [
       "14.0"
      ]
     },
     "execution_count": 12,
     "metadata": {},
     "output_type": "execute_result"
    }
   ],
   "source": [
    "ntfyHour = sorted(ntfyHour)\n",
    "median_ntfyHour = None\n",
    "\n",
    "if len(ntfyHour)%2 == 1: #check if the length is odd number\n",
    "    median_ntfyHour = ntfyHour[floor(len(ntfyHour)/2)]\n",
    "else:\n",
    "    median_ntfyHour = ntfyHour[len(ntfyHour)//2]\n",
    "    median_ntfyHour += ntfyHour[(len(ntfyHour)//2)-1]\n",
    "    median_ntfyHour = median_ntfyHour/2\n",
    "median_ntfyHour"
   ]
  },
  {
   "cell_type": "markdown",
   "id": "6fda677e",
   "metadata": {},
   "source": [
    "# Date Time\n",
    "analyze crash data based on the date the crashes happen\n",
    "\n",
    "1.plot the total crashes each month\n",
    "\n",
    "2.Find the month with max total crashes and month with min total crashes"
   ]
  },
  {
   "cell_type": "code",
   "execution_count": 13,
   "id": "de54de0d",
   "metadata": {},
   "outputs": [],
   "source": [
    "#Date to time \n",
    "#function from previous assignment 5\n",
    "def get_year(date):\n",
    "    \"\"\"get_year(date) returns the year when the date is the in the 'mm/dd/yyyy' format\"\"\"\n",
    "    date = date.split(\"/\")\n",
    "    return int(date[2])\n",
    "\n",
    "def get_day(date):\n",
    "    \"\"\"get_year(date) returns the day when the date is the in the 'mm/dd/yyyy' format\"\"\"\n",
    "    date = date.split(\"/\")\n",
    "    return int(date[1])\n",
    "\n",
    "def get_month(date):\n",
    "    \"\"\"get_year(date) returns the month when the date is the in the 'mm/dd/yyyy' format\"\"\"\n",
    "    date = date.split(\"/\")\n",
    "    return int(date[0])"
   ]
  },
  {
   "cell_type": "markdown",
   "id": "bf678c8f",
   "metadata": {},
   "source": [
    "**Q6 store the value of crashes data for each month in dictionary\n",
    "Key will be the month and the value will be the number of total crashes that month**"
   ]
  },
  {
   "cell_type": "code",
   "execution_count": 14,
   "id": "4f7ab390",
   "metadata": {},
   "outputs": [],
   "source": [
    "def monthCode(month):\n",
    "    #transfer number to January, February, March, April, \n",
    "    #May, June, July, August, September, October, November, and December\n",
    "    index = decode_data['Number'].index(month)\n",
    "    return decode_data['Month'][index]"
   ]
  },
  {
   "cell_type": "code",
   "execution_count": 15,
   "id": "4998a51a",
   "metadata": {},
   "outputs": [
    {
     "data": {
      "text/plain": [
       "{'December': 13443,\n",
       " 'November': 13382,\n",
       " 'October': 11715,\n",
       " 'January': 11459,\n",
       " 'June': 10687,\n",
       " 'September': 10318,\n",
       " 'May': 10056,\n",
       " 'February': 10015,\n",
       " 'July': 9877,\n",
       " 'August': 9857,\n",
       " 'March': 9232,\n",
       " 'April': 8789}"
      ]
     },
     "execution_count": 15,
     "metadata": {},
     "output_type": "execute_result"
    }
   ],
   "source": [
    "month_dic = {} #month dictionary\n",
    "\n",
    "for i in crash_dic['crashdate']:\n",
    "    month = monthCode(get_month(i))\n",
    "    if month not in month_dic:\n",
    "        month_dic[month] = 1\n",
    "    else:\n",
    "        month_dic[month] += 1\n",
    "month_dic = dict(sorted(month_dic.items(), key=lambda item: item[1],reverse = True))      \n",
    "month_dic"
   ]
  },
  {
   "cell_type": "markdown",
   "id": "a5b72724",
   "metadata": {},
   "source": [
    "**Q7 Sort the dictionary by the number of crash data and plot the value**"
   ]
  },
  {
   "cell_type": "code",
   "execution_count": 16,
   "id": "9fbb04c1",
   "metadata": {},
   "outputs": [
    {
     "data": {
      "text/plain": [
       "Text(0, 0.5, 'crashes number')"
      ]
     },
     "execution_count": 16,
     "metadata": {},
     "output_type": "execute_result"
    },
    {
     "data": {
      "image/png": "[encoded data removed]",
      "text/plain": [
       "<Figure size 700x400 with 1 Axes>"
      ]
     },
     "metadata": {},
     "output_type": "display_data"
    }
   ],
   "source": [
    "#sort the month dictionary by its value\n",
    "month_statistic = dict(sorted(month_dic.items(), key=lambda item: item[1],reverse = True))\n",
    "ax = pandas.Series(month_statistic).plot.bar(color=\"black\", fontsize=16, figsize=(4 + len(month_statistic)//4, 4),title = \"total of crashes for each month\")\n",
    "ax.set_ylabel(\"crashes number\", fontsize=16)"
   ]
  },
  {
   "cell_type": "markdown",
   "id": "b79b2a5b",
   "metadata": {},
   "source": [
    "**Q8 Find the months that has max and min crashes**"
   ]
  },
  {
   "cell_type": "code",
   "execution_count": 17,
   "id": "1d9cdcd9",
   "metadata": {},
   "outputs": [
    {
     "name": "stdout",
     "output_type": "stream",
     "text": [
      "The month with maximum crashes is December, the number of crashes is 13443 \n",
      "The month with minimum crashes is April, the number of crashes is 8789 \n"
     ]
    }
   ],
   "source": [
    "max_month = max(month_dic.items(), key=lambda item: item[1]) # max value of time\n",
    "min_month = min(month_dic.items(), key=lambda item: item[1]) #min value of time\n",
    "print(\"The month with maximum crashes is {}, the number of crashes is {} \".format(max_month[0],max_month[1]))\n",
    "print(\"The month with minimum crashes is {}, the number of crashes is {} \".format(min_month[0],min_month[1]))"
   ]
  },
  {
   "cell_type": "markdown",
   "id": "eac222fa",
   "metadata": {},
   "source": [
    "# Analyze the number of crashes for Madison\n",
    " find out the number of crashes  for each month in Madison municipality\n",
    " \n",
    " find out the number of crashes for each day in Madison municipality\n"
   ]
  },
  {
   "cell_type": "markdown",
   "id": "f0a8ec5e",
   "metadata": {},
   "source": [
    "**Q9 Create a dictionary that only have the crash data for Madison munipality for each month\n",
    "Key is the month, and the value is the number of crashes in Madison munipality in that month**"
   ]
  },
  {
   "cell_type": "code",
   "execution_count": 18,
   "id": "b04f1e0f",
   "metadata": {},
   "outputs": [
    {
     "data": {
      "text/plain": [
       "{'July': 315,\n",
       " 'November': 330,\n",
       " 'December': 375,\n",
       " 'January': 278,\n",
       " 'February': 270,\n",
       " 'March': 271,\n",
       " 'June': 281,\n",
       " 'October': 318,\n",
       " 'August': 339,\n",
       " 'April': 266,\n",
       " 'May': 294,\n",
       " 'September': 321}"
      ]
     },
     "execution_count": 18,
     "metadata": {},
     "output_type": "execute_result"
    }
   ],
   "source": [
    "crash_month_Madison = {}\n",
    "current_month = None\n",
    "current_muni = None\n",
    "\n",
    "for i in range(len(crash_dic['muniname'])):\n",
    "    if(crash_dic['muniname'][i] == \"MADISON\"):\n",
    "        current_month = monthCode(get_month(crash_dic['crashdate'][i]))\n",
    "        if current_month not in crash_month_Madison:\n",
    "            crash_month_Madison[current_month] = 1\n",
    "        else:\n",
    "            crash_month_Madison[current_month] += 1\n",
    "            \n",
    "crash_month_Madison"
   ]
  },
  {
   "cell_type": "markdown",
   "id": "9eeff94b",
   "metadata": {},
   "source": [
    "**Q10 Create a dictionary that only have the crash data for Madison munipality for each day\n",
    "Key is the day, and the value is the number of crashes in Madison munipality in that day**"
   ]
  },
  {
   "cell_type": "code",
   "execution_count": 19,
   "id": "7b3f3f13",
   "metadata": {},
   "outputs": [
    {
     "data": {
      "text/plain": [
       "{16: 117,\n",
       " 22: 141,\n",
       " 15: 159,\n",
       " 10: 93,\n",
       " 23: 147,\n",
       " 28: 126,\n",
       " 7: 136,\n",
       " 25: 111,\n",
       " 9: 126,\n",
       " 5: 117,\n",
       " 11: 102,\n",
       " 3: 113,\n",
       " 8: 116,\n",
       " 20: 122,\n",
       " 19: 143,\n",
       " 14: 115,\n",
       " 2: 100,\n",
       " 21: 113,\n",
       " 29: 122,\n",
       " 26: 108,\n",
       " 1: 116,\n",
       " 4: 94,\n",
       " 12: 117,\n",
       " 6: 113,\n",
       " 30: 95,\n",
       " 18: 115,\n",
       " 17: 116,\n",
       " 27: 126,\n",
       " 24: 147,\n",
       " 13: 115,\n",
       " 31: 77}"
      ]
     },
     "execution_count": 19,
     "metadata": {},
     "output_type": "execute_result"
    }
   ],
   "source": [
    "crash_day_Madison = {}\n",
    "current_day = None\n",
    "current_muni = None\n",
    "\n",
    "for i in range(len(crash_dic['muniname'])):\n",
    "    if(crash_dic['muniname'][i] == \"MADISON\"):\n",
    "        current_day = get_day(crash_dic['crashdate'][i])\n",
    "        if current_day not in crash_day_Madison:\n",
    "            crash_day_Madison[current_day] = 1\n",
    "        else:\n",
    "            crash_day_Madison[current_day] += 1\n",
    "            \n",
    "crash_day_Madison"
   ]
  },
  {
   "cell_type": "markdown",
   "id": "940552e8",
   "metadata": {},
   "source": [
    "# Analyze the location where crashes happened.\n",
    "Abbreviation for LOCTYPE:\n",
    "\n",
    "I- Intersection(public roadway)\n",
    "\n",
    "N – Non-intersection (public roadway) \n",
    "\n",
    "PL – Parking lot \n",
    "\n",
    "PP – Private Property"
   ]
  },
  {
   "cell_type": "markdown",
   "id": "85e2eeca",
   "metadata": {},
   "source": [
    "**Q11 Find out which type of location had the most crashes in 2022 and how many crashes happened \n",
    "in that location**"
   ]
  },
  {
   "cell_type": "code",
   "execution_count": 20,
   "id": "b13f2010",
   "metadata": {},
   "outputs": [],
   "source": [
    "#loc_type_decode\n",
    "def loc_type_decode(loc):\n",
    "    if loc not in decode_data['Loctype']:\n",
    "        return \"Unknown type\"\n",
    "    index = decode_data['Loctype'].index(loc)\n",
    "    return decode_data['LoctypeWord'][index]"
   ]
  },
  {
   "cell_type": "code",
   "execution_count": 21,
   "id": "3595777e",
   "metadata": {},
   "outputs": [
    {
     "data": {
      "text/plain": [
       "('Non-intersection(public roadway) ', 76391)"
      ]
     },
     "execution_count": 21,
     "metadata": {},
     "output_type": "execute_result"
    }
   ],
   "source": [
    "loc_type = {}\n",
    "count = 0\n",
    "for i in crash_dic['loctype']:\n",
    "    i = loc_type_decode(i)\n",
    "    if i not in loc_type:\n",
    "        loc_type[i] = 1\n",
    "    else:\n",
    "        loc_type[i] += 1\n",
    "max_type = max(sorted(loc_type.items()), key = lambda t:t[1])\n",
    "max_type"
   ]
  },
  {
   "cell_type": "code",
   "execution_count": 22,
   "id": "44de8cb0",
   "metadata": {},
   "outputs": [],
   "source": [
    "def cell(row_idx, col_name):\n",
    "    col_idx = title.index(col_name)\n",
    "    val = data[row_idx][col_idx]\n",
    "\n",
    "    if val.strip() == \"\":\n",
    "        return None\n",
    "    if col_name in [\"LATDECDG\", \"LONDECDG\"]:\n",
    "        try:\n",
    "            val = float(val)\n",
    "        except ValueError:\n",
    "            print(f\"Warning: Unable to convert {col_name} value '{val}' to float at row {row_idx}.\")\n",
    "            return None\n",
    "     \n",
    "    return val\n"
   ]
  },
  {
   "cell_type": "markdown",
   "id": "8bd1332a",
   "metadata": {},
   "source": [
    "**Q12 What is the latitude of the 572th crash?**"
   ]
  },
  {
   "cell_type": "code",
   "execution_count": 23,
   "id": "84622503",
   "metadata": {},
   "outputs": [
    {
     "name": "stdout",
     "output_type": "stream",
     "text": [
      "43.114408168\n"
     ]
    }
   ],
   "source": [
    "print(cell(572,'LATDECDG'))"
   ]
  },
  {
   "cell_type": "markdown",
   "id": "80bd5372",
   "metadata": {},
   "source": [
    "**Q13 Create a dataframe for the precise location of crashes with lattitude and longitude**"
   ]
  },
  {
   "cell_type": "code",
   "execution_count": 24,
   "id": "6a490ef6",
   "metadata": {},
   "outputs": [
    {
     "data": {
      "text/html": [
       "<div>\n",
       "<style scoped>\n",
       "    .dataframe tbody tr th:only-of-type {\n",
       "        vertical-align: middle;\n",
       "    }\n",
       "\n",
       "    .dataframe tbody tr th {\n",
       "        vertical-align: top;\n",
       "    }\n",
       "\n",
       "    .dataframe thead th {\n",
       "        text-align: right;\n",
       "    }\n",
       "</style>\n",
       "<table border=\"1\" class=\"dataframe\">\n",
       "  <thead>\n",
       "    <tr style=\"text-align: right;\">\n",
       "      <th></th>\n",
       "      <th>Lattitude</th>\n",
       "      <th>Longitude</th>\n",
       "    </tr>\n",
       "  </thead>\n",
       "  <tbody>\n",
       "    <tr>\n",
       "      <th>0</th>\n",
       "      <td>43.037016</td>\n",
       "      <td>-89.390930</td>\n",
       "    </tr>\n",
       "    <tr>\n",
       "      <th>2</th>\n",
       "      <td>43.035365</td>\n",
       "      <td>-89.432469</td>\n",
       "    </tr>\n",
       "    <tr>\n",
       "      <th>4</th>\n",
       "      <td>43.072505</td>\n",
       "      <td>-89.404078</td>\n",
       "    </tr>\n",
       "    <tr>\n",
       "      <th>5</th>\n",
       "      <td>43.075306</td>\n",
       "      <td>-89.450823</td>\n",
       "    </tr>\n",
       "    <tr>\n",
       "      <th>6</th>\n",
       "      <td>43.047481</td>\n",
       "      <td>-89.473558</td>\n",
       "    </tr>\n",
       "    <tr>\n",
       "      <th>...</th>\n",
       "      <td>...</td>\n",
       "      <td>...</td>\n",
       "    </tr>\n",
       "    <tr>\n",
       "      <th>128825</th>\n",
       "      <td>45.451201</td>\n",
       "      <td>-92.551061</td>\n",
       "    </tr>\n",
       "    <tr>\n",
       "      <th>128826</th>\n",
       "      <td>45.451698</td>\n",
       "      <td>-92.570094</td>\n",
       "    </tr>\n",
       "    <tr>\n",
       "      <th>128827</th>\n",
       "      <td>45.453313</td>\n",
       "      <td>-92.461417</td>\n",
       "    </tr>\n",
       "    <tr>\n",
       "      <th>128828</th>\n",
       "      <td>45.452236</td>\n",
       "      <td>-92.550408</td>\n",
       "    </tr>\n",
       "    <tr>\n",
       "      <th>128829</th>\n",
       "      <td>45.445338</td>\n",
       "      <td>-92.549594</td>\n",
       "    </tr>\n",
       "  </tbody>\n",
       "</table>\n",
       "<p>127640 rows × 2 columns</p>\n",
       "</div>"
      ],
      "text/plain": [
       "        Lattitude  Longitude\n",
       "0       43.037016 -89.390930\n",
       "2       43.035365 -89.432469\n",
       "4       43.072505 -89.404078\n",
       "5       43.075306 -89.450823\n",
       "6       43.047481 -89.473558\n",
       "...           ...        ...\n",
       "128825  45.451201 -92.551061\n",
       "128826  45.451698 -92.570094\n",
       "128827  45.453313 -92.461417\n",
       "128828  45.452236 -92.550408\n",
       "128829  45.445338 -92.549594\n",
       "\n",
       "[127640 rows x 2 columns]"
      ]
     },
     "execution_count": 24,
     "metadata": {},
     "output_type": "execute_result"
    }
   ],
   "source": [
    "crash_lat = {}\n",
    "crash_lon = {}\n",
    "for i in range(len(data)):\n",
    "    if cell(i,'LATDECDG') == None or cell(i,'LONDECDG') == None:\n",
    "        continue\n",
    "    else:\n",
    "        crash_lat[i] = cell(i,'LATDECDG')\n",
    "        crash_lon[i] = cell(i,'LONDECDG')\n",
    "crash_lat = pandas.Series(crash_lat) \n",
    "crash_lon = pandas.Series(crash_lon)\n",
    "df = DataFrame({'Lattitude':crash_lat,'Longitude':crash_lon})\n",
    "df"
   ]
  },
  {
   "cell_type": "markdown",
   "id": "f125c5a1",
   "metadata": {},
   "source": [
    "**Q14 Generate the scatter plot of the locations**"
   ]
  },
  {
   "cell_type": "code",
   "execution_count": 25,
   "id": "6e25e9cc",
   "metadata": {
    "scrolled": true
   },
   "outputs": [
    {
     "data": {
      "image/png": "[encoded data removed]",
      "text/plain": [
       "<Figure size 640x480 with 1 Axes>"
      ]
     },
     "metadata": {},
     "output_type": "display_data"
    }
   ],
   "source": [
    "ax = df.plot.scatter(x = 'Longitude', y = 'Lattitude',color = 'yellow')\n",
    "ax.set_title('Location of Crashes')\n",
    "None"
   ]
  },
  {
   "cell_type": "markdown",
   "id": "b63d2e49",
   "metadata": {},
   "source": [
    "**Q15 What are the types of roads that crashes took place? And which type of road had the most crashes?**"
   ]
  },
  {
   "cell_type": "code",
   "execution_count": 26,
   "id": "f097d854",
   "metadata": {},
   "outputs": [],
   "source": [
    "#decode hwyclass type:\n",
    "def hwyclass_decode(hwyclass):\n",
    "    index = decode_data['Hwyclass'].index(hwyclass)\n",
    "    return decode_data['HwyclassWord'][index]"
   ]
  },
  {
   "cell_type": "code",
   "execution_count": 27,
   "id": "884490df",
   "metadata": {},
   "outputs": [
    {
     "data": {
      "text/plain": [
       "['City Street Urban ',\n",
       " 'Town Road Rural',\n",
       " 'County Trunk Urban',\n",
       " 'Interstate Hwy Urban',\n",
       " 'State Highway Rural',\n",
       " 'County Trunk Rural',\n",
       " 'State Highway Urban',\n",
       " 'Interstate Hwy Rural',\n",
       " 'City Street Rural']"
      ]
     },
     "execution_count": 27,
     "metadata": {},
     "output_type": "execute_result"
    }
   ],
   "source": [
    "road_type = []\n",
    "for i in range(len(data)):\n",
    "    road_type.append(hwyclass_decode(data[i][title.index('HWYCLASS')]))\n",
    "road_type = list(set(road_type))\n",
    "road_type"
   ]
  },
  {
   "cell_type": "code",
   "execution_count": 28,
   "id": "9a8e2108",
   "metadata": {},
   "outputs": [
    {
     "data": {
      "text/plain": [
       "'City Street Urban '"
      ]
     },
     "execution_count": 28,
     "metadata": {},
     "output_type": "execute_result"
    }
   ],
   "source": [
    "road_type_count = {}\n",
    "\n",
    "for i in range(len(data)):\n",
    "    hwyclass_value = hwyclass_decode(data[i][title.index('HWYCLASS')])\n",
    "\n",
    "    if hwyclass_value not in road_type_count:\n",
    "        road_type_count[hwyclass_value] = 1\n",
    "    else:\n",
    "        road_type_count[hwyclass_value] += 1\n",
    "largest_road_type = max(road_type_count, key=road_type_count.get)\n",
    "largest_road_type"
   ]
  },
  {
   "cell_type": "markdown",
   "id": "932063a5",
   "metadata": {},
   "source": [
    "# Analyze the injury"
   ]
  },
  {
   "cell_type": "markdown",
   "id": "700efb17",
   "metadata": {},
   "source": [
    "**Q16 What are the levels of injury severity and how many are they?**"
   ]
  },
  {
   "cell_type": "code",
   "execution_count": 29,
   "id": "29b7b7a8",
   "metadata": {},
   "outputs": [],
   "source": [
    "#decode injury level\n",
    "def injury_level(injury):\n",
    "    index = decode_data['Injury'].index(injury)\n",
    "    return decode_data['InjuryWord'][index]"
   ]
  },
  {
   "cell_type": "code",
   "execution_count": 30,
   "id": "12edfa0e",
   "metadata": {},
   "outputs": [
    {
     "data": {
      "text/plain": [
       "['Suspected Minor Injury ',\n",
       " 'Possible Injury ',\n",
       " 'Suspected Serious Injury ',\n",
       " 'Fatal Injury ',\n",
       " 'No Apparent Injury ']"
      ]
     },
     "execution_count": 30,
     "metadata": {},
     "output_type": "execute_result"
    }
   ],
   "source": [
    "injury_severity = []\n",
    "for i in range(len(data)):\n",
    "    injury_severity.append(injury_level(data[i][title.index('INJSVR')]))\n",
    "injury_severity = list(set(injury_severity))\n",
    "injury_severity"
   ]
  },
  {
   "cell_type": "code",
   "execution_count": 31,
   "id": "ba81b6c3",
   "metadata": {},
   "outputs": [
    {
     "data": {
      "text/plain": [
       "{'Possible Injury ': 10938,\n",
       " 'No Apparent Injury ': 103212,\n",
       " 'Suspected Minor Injury ': 11393,\n",
       " 'Suspected Serious Injury ': 2740,\n",
       " 'Fatal Injury ': 547}"
      ]
     },
     "execution_count": 31,
     "metadata": {},
     "output_type": "execute_result"
    }
   ],
   "source": [
    "injury_severity_count = {}\n",
    "\n",
    "for i in range(len(data)):\n",
    "    injury_value = injury_level(data[i][title.index('INJSVR')])\n",
    "\n",
    "    if injury_value not in injury_severity_count:\n",
    "        injury_severity_count[injury_value] = 1\n",
    "    else:\n",
    "        injury_severity_count[injury_value] += 1\n",
    "largest_injury_severity = max(injury_severity_count, key=injury_severity_count.get)\n",
    "injury_severity_count"
   ]
  },
  {
   "cell_type": "markdown",
   "id": "e4b3c86d",
   "metadata": {},
   "source": [
    "**Q17 Generate a bar plot for injury severity**"
   ]
  },
  {
   "cell_type": "code",
   "execution_count": 32,
   "id": "993fd831",
   "metadata": {},
   "outputs": [
    {
     "data": {
      "image/png": "[encoded data removed]",
      "text/plain": [
       "<Figure size 640x480 with 1 Axes>"
      ]
     },
     "metadata": {},
     "output_type": "display_data"
    }
   ],
   "source": [
    "s = pandas.Series(injury_severity_count)\n",
    "ax = s.plot.bar(color = 'k')\n",
    "ax.set_ylabel('Number of Injuries')\n",
    "ax.set_xlabel('Level of Injury Severity')\n",
    "ax.set_title('Number of Each Level of Injury Severity')\n",
    "None"
   ]
  },
  {
   "cell_type": "markdown",
   "id": "130c2da8",
   "metadata": {},
   "source": [
    "**Q18 How many veh involved in the crashes in 2022 in WI? And what is the average number of vehicles involed in crashes per county?**"
   ]
  },
  {
   "cell_type": "code",
   "execution_count": 33,
   "id": "9b3eae4d",
   "metadata": {},
   "outputs": [
    {
     "name": "stdout",
     "output_type": "stream",
     "text": [
      "total crashes happened in Wisconsin state in 2022 is 214109\n",
      "average crashes happen in each county in 2022 in WI state is: 2973.7361111111113\n"
     ]
    }
   ],
   "source": [
    "count = 0\n",
    "for i in range(len(data)):\n",
    "    count += int(data[i][title.index('TOTVEH')])\n",
    "print(\"total crashes happened in Wisconsin state in 2022 is\",count)\n",
    "county_num = []\n",
    "for i in range(len(data)):\n",
    "    if data[i][title.index('CNTYNAME')] not in county_num:\n",
    "        county_num.append(data[i][title.index('CNTYNAME')])\n",
    "avg_veh_per_county = count / len(county_num)\n",
    "print(\"average crashes happen in each county in 2022 in WI state is:\",avg_veh_per_county)"
   ]
  },
  {
   "cell_type": "markdown",
   "id": "79084874",
   "metadata": {},
   "source": [
    "**Q19 Alcohol is one of the most severe factor that causes crashes, how many crashes involved with alcohol? What is average crahsed invovled with alcohol per county?**"
   ]
  },
  {
   "cell_type": "code",
   "execution_count": 34,
   "id": "45cf8909",
   "metadata": {},
   "outputs": [
    {
     "name": "stdout",
     "output_type": "stream",
     "text": [
      "crashes involved alcohol is:  6230\n",
      "percentage of crashes involved alcohol is: 2.909732893059143 %\n",
      "average crashed involved with alcohol per county is: 86.52777777777777\n"
     ]
    }
   ],
   "source": [
    "alcohol_count = 0\n",
    "for i in range(len(data)):\n",
    "    if data[i][title.index('ALCFLAG')] == 'Y':\n",
    "        alcohol_count += 1\n",
    "print(\"crashes involved alcohol is: \",alcohol_count)\n",
    "print(\"percentage of crashes involved alcohol is:\",(alcohol_count/count)*100,\"%\")\n",
    "county_num = []\n",
    "for i in range(len(data)):\n",
    "    if data[i][title.index('CNTYNAME')] not in county_num:\n",
    "        county_num.append(data[i][title.index('CNTYNAME')])\n",
    "avg_alco_per_county = alcohol_count / len(county_num)\n",
    "print(\"average crashed involved with alcohol per county is:\",avg_alco_per_county)"
   ]
  },
  {
   "cell_type": "markdown",
   "id": "43024001",
   "metadata": {},
   "source": [
    "**Q20 Generate a bar plot of crashes involved with alcohol for each county**"
   ]
  },
  {
   "cell_type": "code",
   "execution_count": 35,
   "id": "ec120990",
   "metadata": {},
   "outputs": [
    {
     "data": {
      "image/png": "[encoded data removed]",
      "text/plain": [
       "<Figure size 640x480 with 1 Axes>"
      ]
     },
     "metadata": {},
     "output_type": "display_data"
    }
   ],
   "source": [
    "county_alco = {}\n",
    "for i in range(len(data)):\n",
    "    if data[i][title.index('ALCFLAG')] == 'Y':\n",
    "        if data[i][title.index('CNTYNAME')] not in county_alco:\n",
    "            county_alco[data[i][title.index('CNTYNAME')]] = 1\n",
    "        else:\n",
    "            county_alco[data[i][title.index('CNTYNAME')]] += 1\n",
    "s = pandas.Series(county_alco)\n",
    "ax = s.plot.bar(color = 'grey',fontsize = 5 )\n",
    "ax.set_ylabel('Number of Crashes Involved with Alcohol')\n",
    "ax.set_xlabel('County')\n",
    "ax.set_title('Crashes invovled with Alcohol for Each County')\n",
    "None"
   ]
  },
  {
   "cell_type": "markdown",
   "id": "9a2dc4ff-e939-411e-a907-2cffcf734c77",
   "metadata": {},
   "source": [
    "**Type used in here:**\n",
    "MUNITYPE: Municipality type C:city,  T: tow,   V:villa\n",
    "RLTNRDWY: The location of the first harmful event as it relates to its position within or outside the trafficway\r\n",
    "• ON - On Roadway \r\n",
    "• LTSH - Shoulder Left \r\n",
    "• RTSH - Shoulder Right \r\n",
    "• MED B - Median Barrier \r\n",
    "• R SIDE - Roadside \r\n",
    "• GORE - Gore \r\n",
    "• SEP - Separator \r\n",
    "• PARK - In Parking Lane or Zone \r\n",
    "• OFF - Off Roadway, Location Unknown \r\n",
    "• O ROW - Outside Right-Of-Way (Trafficway)\r\n",
    "• CTLT - Continuous Left Turn Lane \r\n",
    "• UNKHWYCLASS: A code which describes the type of road the crash took place on\r\n",
    "• U CITY - City Street Urban \r\n",
    "• R CITY - City Street Rural \r\n",
    "• R TOWN - Town Road Rural \r\n",
    "• U CTH - County Trunk Urban \r\n",
    "• R CTH - County Trunk Rural \r\n",
    "• U STH - State Highway Urban \r\n",
    "• R STH - State Highway Rural \r\n",
    "• U IH - Interstate Hwy Urban \r\n",
    "• R IH - Interstate Hwy Rural \r\n",
    "• P LOT - Parking Lot \r\n",
    "• OTTOTVEH: The total number of vehicles involved in a crash.\n",
    "TOTINJ: The total number of persons injured in a crash (excludes fatalities)\n",
    "ALCFLAG: Alcohol Involvement\n",
    "\r\n",
    "DRUGFLAG: Drug Involveme\r\n",
    "R – Other\r\n",
    "N - Unknown\r\n",
    "ge\r\n",
    "ge\r\n"
   ]
  },
  {
   "cell_type": "markdown",
   "id": "ce17d3e8-38a2-451c-ac51-76380b094b12",
   "metadata": {},
   "source": [
    "# Data Training\n",
    "# Relationship Between Injury and other columns"
   ]
  },
  {
   "cell_type": "code",
   "execution_count": 36,
   "id": "6b98c200",
   "metadata": {},
   "outputs": [],
   "source": [
    "##Build model\n",
    "import numpy as np\n",
    "import pandas as pd\n",
    "\n",
    "df = pd.DataFrame(new_file)\n",
    "\n",
    "df.columns = df.iloc[0]\n",
    "df = df[1:]\n",
    "df.reset_index(drop=True, inplace=True)\n",
    "\n",
    "df.replace('UNKN', np.nan, inplace=True)\n",
    "df.replace('', np.nan, inplace=True)"
   ]
  },
  {
   "cell_type": "code",
   "execution_count": 37,
   "id": "b05e6420-6fd7-483a-824e-bea8a31fac18",
   "metadata": {},
   "outputs": [],
   "source": [
    "#Read decode file for Machine Learning part\n",
    "df2 = pd.read_csv('ML_decode.csv', encoding='utf-8-sig') \n",
    "Decode_Columns = ['MUNITYPE','RLTNRDWY','HWYCLASS','ALCFLAG','DRUGFLAG']\n",
    "col_mappings = {}\n",
    "for col in Decode_Columns:\n",
    "    col_code = f\"{col}_Code\"  \n",
    "    col_mapping = dict(zip(df2[col], df2[col_code]))  # Create a mapping from original to encoded\n",
    "    col_mappings[col] = col_mapping \n"
   ]
  },
  {
   "cell_type": "code",
   "execution_count": 38,
   "id": "7dc911e3-3cde-4302-acfd-8affeba9e8b4",
   "metadata": {},
   "outputs": [],
   "source": [
    "# Loop through each column in the mapping and apply the conversion\n",
    "for col, mapping in col_mappings.items():\n",
    "    if col in df.columns:  \n",
    "        df[col] = df[col].map(mapping).fillna(df[col]) \n"
   ]
  },
  {
   "cell_type": "code",
   "execution_count": 39,
   "id": "7da98f98-097c-44c1-b2b2-95911d195bea",
   "metadata": {},
   "outputs": [
    {
     "name": "stdout",
     "output_type": "stream",
     "text": [
      "0\n",
      "MUNITYPE    float64\n",
      "RLTNRDWY    float64\n",
      "HWYCLASS    float64\n",
      "TOTVEH      float64\n",
      "TOTINJ      float64\n",
      "ALCFLAG     float64\n",
      "DRUGFLAG    float64\n",
      "dtype: object\n"
     ]
    },
    {
     "name": "stderr",
     "output_type": "stream",
     "text": [
      "/var/folders/15/tlrmn11j4rdcmygg96_ckzm80000gn/T/ipykernel_72809/58400653.py:4: SettingWithCopyWarning: \n",
      "A value is trying to be set on a copy of a slice from a DataFrame.\n",
      "Try using .loc[row_indexer,col_indexer] = value instead\n",
      "\n",
      "See the caveats in the documentation: https://pandas.pydata.org/pandas-docs/stable/user_guide/indexing.html#returning-a-view-versus-a-copy\n",
      "  X['TOTVEH'] = df['TOTVEH'].astype(float)\n",
      "/var/folders/15/tlrmn11j4rdcmygg96_ckzm80000gn/T/ipykernel_72809/58400653.py:5: SettingWithCopyWarning: \n",
      "A value is trying to be set on a copy of a slice from a DataFrame.\n",
      "Try using .loc[row_indexer,col_indexer] = value instead\n",
      "\n",
      "See the caveats in the documentation: https://pandas.pydata.org/pandas-docs/stable/user_guide/indexing.html#returning-a-view-versus-a-copy\n",
      "  X['TOTINJ'] = df['TOTINJ'].astype(float)\n"
     ]
    }
   ],
   "source": [
    "# Prepare feature set\n",
    "relevant_columns = ['MUNITYPE','RLTNRDWY','HWYCLASS','TOTVEH','TOTINJ','ALCFLAG','DRUGFLAG']\n",
    "X = df[relevant_columns]\n",
    "X['TOTVEH'] = df['TOTVEH'].astype(float)\n",
    "X['TOTINJ'] = df['TOTINJ'].astype(float)\n",
    "y = df['INJSVR']\n",
    "print(X.dtypes)"
   ]
  },
  {
   "cell_type": "code",
   "execution_count": 40,
   "id": "1dbc24df-3171-474b-bc75-17e6f10d49e5",
   "metadata": {},
   "outputs": [
    {
     "name": "stderr",
     "output_type": "stream",
     "text": [
      "/opt/anaconda3/lib/python3.11/site-packages/sklearn/experimental/enable_hist_gradient_boosting.py:16: UserWarning: Since version 1.0, it is not needed to import enable_hist_gradient_boosting anymore. HistGradientBoostingClassifier and HistGradientBoostingRegressor are now stable and can be normally imported from sklearn.ensemble.\n",
      "  warnings.warn(\n"
     ]
    },
    {
     "name": "stdout",
     "output_type": "stream",
     "text": [
      "Model Accuracy: 78.28%\n",
      "Accuracy: 0.7828145618256617\n"
     ]
    }
   ],
   "source": [
    "### HistGradientBoostingClassifier model\n",
    "from sklearn.experimental import enable_hist_gradient_boosting  \n",
    "from sklearn.ensemble import HistGradientBoostingClassifier\n",
    "from sklearn.model_selection import train_test_split\n",
    "from sklearn.metrics import accuracy_score\n",
    "\n",
    "# Split the data\n",
    "X_train, X_test, y_train, y_test = train_test_split(X, y, test_size=0.2, random_state=42)\n",
    "\n",
    "hgb_model = HistGradientBoostingClassifier(class_weight='balanced', random_state=42)\n",
    "\n",
    "\n",
    "hgb_model.fit(X_train, y_train)\n",
    "\n",
    "y_pred = hgb_model.predict(X_test)\n",
    "\n",
    "accuracy = accuracy_score(y_test, y_pred)\n",
    "print(f\"Model Accuracy: {accuracy * 100:.2f}%\")\n",
    "\n",
    "print('Accuracy:', accuracy_score(y_test, y_pred))"
   ]
  },
  {
   "cell_type": "code",
   "execution_count": 41,
   "id": "02121c86-02f4-4ecb-9a71-ede46a330d18",
   "metadata": {},
   "outputs": [
    {
     "data": {
      "image/png": "[encoded data removed]",
      "text/plain": [
       "<Figure size 640x480 with 1 Axes>"
      ]
     },
     "metadata": {},
     "output_type": "display_data"
    }
   ],
   "source": [
    "from sklearn.inspection import permutation_importance\n",
    "import matplotlib.pyplot as plt\n",
    "import numpy as np\n",
    "\n",
    "result = permutation_importance(hgb_model, X_test, y_test, n_repeats=10, random_state=42, n_jobs=-1)\n",
    "\n",
    "sorted_idx = result.importances_mean.argsort()[::-1]\n",
    "\n",
    "# Plot the feature importance\n",
    "plt.barh(np.array(X.columns)[sorted_idx], result.importances_mean[sorted_idx])\n",
    "plt.xlabel('Permutation Importance')\n",
    "plt.title('Feature Importance using Permutation Importance')\n",
    "plt.show()\n"
   ]
  },
  {
   "cell_type": "code",
   "execution_count": 42,
   "id": "ef1a8c35-b07a-4470-8115-c9471b36cf48",
   "metadata": {},
   "outputs": [
    {
     "name": "stdout",
     "output_type": "stream",
     "text": [
      "Cross-Validation Scores: [0.77699294 0.77598385 0.72048436 0.80385003 0.75261973]\n",
      "Average Cross-Validation Score: 0.77\n"
     ]
    }
   ],
   "source": [
    "## Perform cross-validation\n",
    "from sklearn.model_selection import cross_val_score\n",
    "\n",
    "cv_scores = cross_val_score(hgb_model, X, y, cv=5)\n",
    "\n",
    "print(f\"Cross-Validation Scores: {cv_scores}\")\n",
    "print(f\"Average Cross-Validation Score: {cv_scores.mean():.2f}\")"
   ]
  },
  {
   "cell_type": "code",
   "execution_count": 43,
   "id": "eea2360a-4120-4a59-8f99-b57435e1813d",
   "metadata": {},
   "outputs": [
    {
     "name": "stdout",
     "output_type": "stream",
     "text": [
      "Best Parameters: {'min_samples_leaf': 1, 'max_iter': 100, 'max_depth': 3, 'learning_rate': 0.01}\n",
      "Best Cross-Validation Score: 0.85\n"
     ]
    }
   ],
   "source": [
    "from sklearn.model_selection import RandomizedSearchCV\n",
    "\n",
    "# Define the parameter grid\n",
    "param_distributions = {\n",
    "    'max_iter': [100, 200, 300],\n",
    "    'learning_rate': [0.01, 0.1, 0.2],\n",
    "    'max_depth': [3, 5, 7],\n",
    "    'min_samples_leaf': [1, 3, 5],\n",
    "}\n",
    "\n",
    "#randomized search\n",
    "random_search = RandomizedSearchCV(hgb_model, param_distributions, n_iter=10, cv=5, random_state=42, n_jobs=-1)\n",
    "random_search.fit(X_train, y_train)\n",
    "\n",
    "print(f\"Best Parameters: {random_search.best_params_}\")\n",
    "print(f\"Best Cross-Validation Score: {random_search.best_score_:.2f}\")\n"
   ]
  },
  {
   "cell_type": "code",
   "execution_count": 44,
   "id": "635c3e15-6bce-4f5b-aaa8-50cb629ee0e9",
   "metadata": {},
   "outputs": [
    {
     "name": "stdout",
     "output_type": "stream",
     "text": [
      "Confusion Matrix:\n",
      "[[  292   111   123    29     0]\n",
      " [  831   546   816    54     0]\n",
      " [  426   418  1282    42     0]\n",
      " [   17     8     7    47    33]\n",
      " [    0     0     0  2681 18003]]\n",
      "Classification Report:\n",
      "              precision    recall  f1-score   support\n",
      "\n",
      "           A       0.19      0.53      0.28       555\n",
      "           B       0.50      0.24      0.33      2247\n",
      "           C       0.58      0.59      0.58      2168\n",
      "           K       0.02      0.42      0.03       112\n",
      "           O       1.00      0.87      0.93     20684\n",
      "\n",
      "    accuracy                           0.78     25766\n",
      "   macro avg       0.46      0.53      0.43     25766\n",
      "weighted avg       0.90      0.78      0.83     25766\n",
      "\n"
     ]
    }
   ],
   "source": [
    "from sklearn.metrics import classification_report, confusion_matrix\n",
    "\n",
    "# Generate a confusion matrix\n",
    "conf_matrix = confusion_matrix(y_test, y_pred)\n",
    "\n",
    "#Confusion Matrix\n",
    "print(\"Confusion Matrix:\")\n",
    "print(conf_matrix)\n",
    "\n",
    "#classification report\n",
    "print(\"Classification Report:\")\n",
    "print(classification_report(y_test, y_pred))\n"
   ]
  },
  {
   "cell_type": "code",
   "execution_count": 45,
   "id": "1107ac81-50b7-401b-8a57-46cbde1f518f",
   "metadata": {},
   "outputs": [
    {
     "data": {
      "image/png": "[encoded data removed]",
      "text/plain": [
       "<Figure size 640x480 with 1 Axes>"
      ]
     },
     "metadata": {},
     "output_type": "display_data"
    }
   ],
   "source": [
    "from sklearn.model_selection import learning_curve\n",
    "\n",
    "#hbg_model\n",
    "train_sizes, train_scores, test_scores = learning_curve(hgb_model, X, y, cv=5, train_sizes=np.linspace(0.1, 1.0, 10))\n",
    "\n",
    "# Plot learning curves\n",
    "plt.plot(train_sizes, train_scores.mean(axis=1), label='Training score')\n",
    "plt.plot(train_sizes, test_scores.mean(axis=1), label='Cross-validation score')\n",
    "plt.xlabel('Training set size')\n",
    "plt.ylabel('Score')\n",
    "plt.title('Learning Curves')\n",
    "plt.legend()\n",
    "plt.show()\n"
   ]
  },
  {
   "cell_type": "code",
   "execution_count": 46,
   "id": "0c00fd2e-074f-4cff-bbe0-2868fd3eea5a",
   "metadata": {},
   "outputs": [
    {
     "name": "stdout",
     "output_type": "stream",
     "text": [
      "              precision    recall  f1-score   support\n",
      "\n",
      "           0       1.00      1.00      1.00     20684\n",
      "           1       0.57      0.61      0.59      2168\n",
      "           2       0.52      0.60      0.55      2247\n",
      "           3       0.28      0.04      0.07       555\n",
      "           4       0.00      0.00      0.00       112\n",
      "\n",
      "    accuracy                           0.91     25766\n",
      "   macro avg       0.47      0.45      0.44     25766\n",
      "weighted avg       0.90      0.91      0.90     25766\n",
      "\n"
     ]
    }
   ],
   "source": [
    "import xgboost as xgb\n",
    "\n",
    "mapping_dict = {'K': 4, 'A': 3, 'B': 2, 'C': 1, 'O': 0}\n",
    "\n",
    "y = df['INJSVR'].astype(str).tolist()\n",
    "y_decoded = [mapping_dict[pred] for pred in y]\n",
    "\n",
    "X_train, X_test, y_train, y_test = train_test_split(X, y_decoded, test_size=0.2, random_state=42)\n",
    "\n",
    "\n",
    "# Initialize and train the model\n",
    "xgb_model = xgb.XGBClassifier(random_state=42)\n",
    "xgb_model.fit(X_train, y_train)\n",
    "\n",
    "\n",
    "# Predict and evaluate\n",
    "y_pred_xgb = xgb_model.predict(X_test)\n",
    "print(classification_report(y_test, y_pred_xgb))\n"
   ]
  },
  {
   "cell_type": "code",
   "execution_count": 47,
   "id": "b1940f28-23c2-4cb3-b6b2-c5e86f789683",
   "metadata": {},
   "outputs": [
    {
     "data": {
      "image/png": "[encoded data removed]",
      "text/plain": [
       "<Figure size 640x480 with 1 Axes>"
      ]
     },
     "metadata": {},
     "output_type": "display_data"
    }
   ],
   "source": [
    "xgb.plot_importance(xgb_model)\n",
    "plt.title('Feature Importance')\n",
    "plt.show()"
   ]
  },
  {
   "cell_type": "code",
   "execution_count": 48,
   "id": "0f1c16a2-65fa-4b50-8354-b8f9432a18b5",
   "metadata": {},
   "outputs": [
    {
     "name": "stdout",
     "output_type": "stream",
     "text": [
      "Best Parameters: {'learning_rate': 0.01, 'max_depth': 5, 'n_estimators': 300}\n"
     ]
    }
   ],
   "source": [
    "from sklearn.model_selection import GridSearchCV\n",
    "\n",
    "param_grid = {\n",
    "    'max_depth': [3, 5, 7],\n",
    "    'learning_rate': [0.01, 0.1, 0.2],\n",
    "    'n_estimators': [100, 200, 300],\n",
    "}\n",
    "\n",
    "#XGB Classifier\n",
    "grid_search = GridSearchCV(xgb.XGBClassifier(random_state=42), param_grid, cv=3)\n",
    "grid_search.fit(X_train, y_train)\n",
    "\n",
    "print(\"Best Parameters:\", grid_search.best_params_)\n"
   ]
  },
  {
   "cell_type": "code",
   "execution_count": 49,
   "id": "ddac999c-24f8-4119-b642-56bcefd9b10e",
   "metadata": {},
   "outputs": [
    {
     "data": {
      "image/png": "[encoded data removed]",
      "text/plain": [
       "<Figure size 640x480 with 2 Axes>"
      ]
     },
     "metadata": {},
     "output_type": "display_data"
    }
   ],
   "source": [
    "from sklearn.metrics import confusion_matrix\n",
    "import seaborn as sns\n",
    "import matplotlib.pyplot as plt\n",
    "\n",
    "# Compute the confusion matrix\n",
    "cm = confusion_matrix(y_test, y_pred_xgb)\n",
    "\n",
    "# Normalize by true class \n",
    "cm_normalized = cm.astype('float') / cm.sum(axis=1)[:, np.newaxis]\n",
    "\n",
    "# Plot the normalized confusion matrix\n",
    "sns.heatmap(cm_normalized, annot=True, fmt='.2%', cmap='Blues')\n",
    "plt.ylabel('Actual')\n",
    "plt.xlabel('Predicted')\n",
    "plt.show()\n"
   ]
  },
  {
   "cell_type": "code",
   "execution_count": 50,
   "id": "c6a32c5b-b904-4e53-b03c-2fce085c59dc",
   "metadata": {},
   "outputs": [
    {
     "name": "stdout",
     "output_type": "stream",
     "text": [
      "Cross-Validation Scores: [0.90145929 0.91034697 0.90305053 0.90518513 0.90277886]\n",
      "Mean CV Score: 0.9045641543118839\n"
     ]
    }
   ],
   "source": [
    "from sklearn.model_selection import cross_val_score\n",
    "\n",
    "#Cross-Validation Scores\n",
    "scores = cross_val_score(xgb_model, X, y_decoded, cv=5)\n",
    "print(\"Cross-Validation Scores:\", scores)\n",
    "print(\"Mean CV Score:\", scores.mean())\n"
   ]
  },
  {
   "cell_type": "code",
   "execution_count": 51,
   "id": "4fe06832-3f8a-4026-b012-0e32dd0bfed4",
   "metadata": {},
   "outputs": [
    {
     "name": "stdout",
     "output_type": "stream",
     "text": [
      "0       MUNITYPE  RLTNRDWY  HWYCLASS  TOTVEH  TOTINJ  ALCFLAG  DRUGFLAG\n",
      "128363       1.0       1.0       6.0     2.0     2.0      NaN       NaN\n",
      "120823       1.0       1.0       1.0     2.0     2.0      NaN       NaN\n",
      "6270         1.0       1.0       1.0     1.0     1.0      NaN       NaN\n",
      "81247        1.0       1.0       1.0     2.0     1.0      NaN       NaN\n",
      "60970        2.0       1.0       3.0     2.0     1.0      NaN       NaN\n",
      "...          ...       ...       ...     ...     ...      ...       ...\n",
      "36682        1.0       1.0       2.0     2.0     1.0      NaN       NaN\n",
      "1022         1.0       1.0       6.0     2.0     1.0      1.0       NaN\n",
      "250          1.0       1.0       1.0     2.0     1.0      NaN       NaN\n",
      "4559         2.0       5.0       5.0     1.0     1.0      NaN       NaN\n",
      "88748        1.0       9.0       1.0     1.0     1.0      1.0       NaN\n",
      "\n",
      "[2399 rows x 7 columns]\n"
     ]
    }
   ],
   "source": [
    "# Get misclassified\n",
    "misclassified_idx = [i for i, (true, pred) in enumerate(zip(y_test, y_pred_xgb)) if true != pred]\n",
    "misclassified_samples = X_test.iloc[misclassified_idx]\n",
    "print(misclassified_samples)\n"
   ]
  },
  {
   "cell_type": "code",
   "execution_count": null,
   "id": "35f8169f-242e-4322-ba5f-197116e10146",
   "metadata": {},
   "outputs": [],
   "source": []
  }
 ],
 "metadata": {
  "kernelspec": {
   "display_name": "Python 3 (ipykernel)",
   "language": "python",
   "name": "python3"
  },
  "language_info": {
   "codemirror_mode": {
    "name": "ipython",
    "version": 3
   },
   "file_extension": ".py",
   "mimetype": "text/x-python",
   "name": "python",
   "nbconvert_exporter": "python",
   "pygments_lexer": "ipython3",
   "version": "3.11.7"
  }
 },
 "nbformat": 4,
 "nbformat_minor": 5
}
